{
 "cells": [
  {
   "cell_type": "code",
   "execution_count": 1,
   "metadata": {},
   "outputs": [],
   "source": [
    "import pandas as pd\n",
    "import sqlite3"
   ]
  },
  {
   "cell_type": "code",
   "execution_count": 2,
   "metadata": {},
   "outputs": [],
   "source": [
    "# Conexão database SQLite\n",
    "consqlite = sqlite3.connect('C:/Users/matheus.candido/sqlite3/exploracao_petroleo_brasil.db', timeout=3)\n"
   ]
  },
  {
   "cell_type": "code",
   "execution_count": 3,
   "metadata": {},
   "outputs": [],
   "source": [
    "# ETL Query d_campo\n",
    "\n",
    "query_d_campo = f\"\"\"\n",
    "SELECT DISTINCT\n",
    "\t   SUBSTR(CAMPO, -2, 3) || SUBSTR(CAMPO, 1, 3) || LENGTH(CAMPO) || SIG_CAMPO AS COD_CAMPO,\n",
    "\t   UPPER(CAMPO) AS CAMPO\n",
    "FROM T_DATAHUB\n",
    "WHERE SIG_CAMPO IS NOT NULL\n",
    "ORDER BY COD_CAMPO\n",
    "\"\"\"\n",
    "\n",
    "d_campo_df = pd.read_sql_query(query_d_campo, consqlite)"
   ]
  },
  {
   "cell_type": "code",
   "execution_count": 4,
   "metadata": {},
   "outputs": [
    {
     "name": "stdout",
     "output_type": "stream",
     "text": [
      "<class 'pandas.core.frame.DataFrame'>\n",
      "RangeIndex: 554 entries, 0 to 553\n",
      "Data columns (total 2 columns):\n",
      " #   Column     Non-Null Count  Dtype \n",
      "---  ------     --------------  ----- \n",
      " 0   COD_CAMPO  554 non-null    object\n",
      " 1   CAMPO      554 non-null    object\n",
      "dtypes: object(2)\n",
      "memory usage: 8.8+ KB\n"
     ]
    }
   ],
   "source": [
    "d_campo_df.info()"
   ]
  },
  {
   "cell_type": "code",
   "execution_count": 5,
   "metadata": {},
   "outputs": [
    {
     "data": {
      "text/plain": [
       "<sqlite3.Cursor at 0x1d84c6011f0>"
      ]
     },
     "execution_count": 5,
     "metadata": {},
     "output_type": "execute_result"
    }
   ],
   "source": [
    "# Create table (DDL) SQLite d_campo\n",
    "\n",
    "consqlite.execute('DROP TABLE D_CAMPO')\n",
    "consqlite.execute(f\"\"\"\n",
    "CREATE TABLE IF NOT EXISTS D_CAMPO (\n",
    "\tCOD_CAMPO VARCHAR(20) PRIMARY KEY,\n",
    "\tCAMPO VARCHAR(50) NOT NULL\n",
    ")\n",
    "\"\"\")"
   ]
  },
  {
   "cell_type": "code",
   "execution_count": 6,
   "metadata": {},
   "outputs": [],
   "source": [
    "# Insert de dados d_campo de dataframe para database\n",
    "\n",
    "d_campo_df.to_sql('D_CAMPO', consqlite, if_exists='append', index=False)"
   ]
  },
  {
   "cell_type": "code",
   "execution_count": 7,
   "metadata": {},
   "outputs": [
    {
     "name": "stdout",
     "output_type": "stream",
     "text": [
      "<class 'pandas.core.frame.DataFrame'>\n",
      "RangeIndex: 554 entries, 0 to 553\n",
      "Data columns (total 2 columns):\n",
      " #   Column     Non-Null Count  Dtype \n",
      "---  ------     --------------  ----- \n",
      " 0   COD_CAMPO  554 non-null    object\n",
      " 1   CAMPO      554 non-null    object\n",
      "dtypes: object(2)\n",
      "memory usage: 8.8+ KB\n"
     ]
    }
   ],
   "source": [
    "# Informações de database d_campo\n",
    "\n",
    "d_campo_db = pd.read_sql_query('SELECT * FROM D_CAMPO', consqlite)\n",
    "d_campo_db.info()"
   ]
  }
 ],
 "metadata": {
  "interpreter": {
   "hash": "d3293ed44f275acf8125ba4530465ed2a74a16d8df4c8bfb247854afffb16d38"
  },
  "kernelspec": {
   "display_name": "Python 3.9.7 64-bit ('base': conda)",
   "language": "python",
   "name": "python3"
  },
  "language_info": {
   "codemirror_mode": {
    "name": "ipython",
    "version": 3
   },
   "file_extension": ".py",
   "mimetype": "text/x-python",
   "name": "python",
   "nbconvert_exporter": "python",
   "pygments_lexer": "ipython3",
   "version": "3.9.7"
  },
  "orig_nbformat": 4
 },
 "nbformat": 4,
 "nbformat_minor": 2
}
