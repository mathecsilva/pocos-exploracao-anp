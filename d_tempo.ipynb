{
 "cells": [
  {
   "cell_type": "code",
   "execution_count": 1,
   "metadata": {},
   "outputs": [],
   "source": [
    "import pandas as pd\n",
    "import sqlite3\n",
    "import datetime"
   ]
  },
  {
   "cell_type": "code",
   "execution_count": 2,
   "metadata": {},
   "outputs": [
    {
     "data": {
      "text/plain": [
       "Timestamp('1922-01-01 00:00:00', freq='D')"
      ]
     },
     "execution_count": 2,
     "metadata": {},
     "output_type": "execute_result"
    }
   ],
   "source": [
    "# Geração de calendário em lista\n",
    "\n",
    "d_tempo_list = []\n",
    "\n",
    "datelist = pd.date_range(start=\"1922-01-01\",end=datetime.datetime.today())\n",
    "for d in datelist:\n",
    "    d_tempo_list.append(d)\n",
    "\n",
    "d_tempo_list[0]"
   ]
  },
  {
   "cell_type": "code",
   "execution_count": 3,
   "metadata": {},
   "outputs": [
    {
     "name": "stdout",
     "output_type": "stream",
     "text": [
      "<class 'pandas.core.frame.DataFrame'>\n",
      "RangeIndex: 36538 entries, 0 to 36537\n",
      "Data columns (total 1 columns):\n",
      " #   Column      Non-Null Count  Dtype         \n",
      "---  ------      --------------  -----         \n",
      " 0   DATA_TEMPO  36538 non-null  datetime64[ns]\n",
      "dtypes: datetime64[ns](1)\n",
      "memory usage: 285.6 KB\n"
     ]
    }
   ],
   "source": [
    "# Geração de calendário em dataframe\n",
    "\n",
    "date_columns = ['DATA_TEMPO']\n",
    "\n",
    "d_tempo_df = pd.DataFrame(d_tempo_list, columns=date_columns, index=None)\n",
    "d_tempo_df.info()"
   ]
  },
  {
   "cell_type": "code",
   "execution_count": 4,
   "metadata": {},
   "outputs": [
    {
     "data": {
      "text/html": [
       "<div>\n",
       "<style scoped>\n",
       "    .dataframe tbody tr th:only-of-type {\n",
       "        vertical-align: middle;\n",
       "    }\n",
       "\n",
       "    .dataframe tbody tr th {\n",
       "        vertical-align: top;\n",
       "    }\n",
       "\n",
       "    .dataframe thead th {\n",
       "        text-align: right;\n",
       "    }\n",
       "</style>\n",
       "<table border=\"1\" class=\"dataframe\">\n",
       "  <thead>\n",
       "    <tr style=\"text-align: right;\">\n",
       "      <th></th>\n",
       "      <th>DATA_TEMPO</th>\n",
       "      <th>DATA</th>\n",
       "      <th>ANO</th>\n",
       "      <th>MES</th>\n",
       "      <th>DIA</th>\n",
       "      <th>SEMANA</th>\n",
       "    </tr>\n",
       "  </thead>\n",
       "  <tbody>\n",
       "    <tr>\n",
       "      <th>36535</th>\n",
       "      <td>2022-01-11</td>\n",
       "      <td>2022-01-11</td>\n",
       "      <td>2022</td>\n",
       "      <td>1</td>\n",
       "      <td>11</td>\n",
       "      <td>2</td>\n",
       "    </tr>\n",
       "    <tr>\n",
       "      <th>36536</th>\n",
       "      <td>2022-01-12</td>\n",
       "      <td>2022-01-12</td>\n",
       "      <td>2022</td>\n",
       "      <td>1</td>\n",
       "      <td>12</td>\n",
       "      <td>2</td>\n",
       "    </tr>\n",
       "    <tr>\n",
       "      <th>36537</th>\n",
       "      <td>2022-01-13</td>\n",
       "      <td>2022-01-13</td>\n",
       "      <td>2022</td>\n",
       "      <td>1</td>\n",
       "      <td>13</td>\n",
       "      <td>2</td>\n",
       "    </tr>\n",
       "  </tbody>\n",
       "</table>\n",
       "</div>"
      ],
      "text/plain": [
       "      DATA_TEMPO        DATA   ANO  MES  DIA  SEMANA\n",
       "36535 2022-01-11  2022-01-11  2022    1   11       2\n",
       "36536 2022-01-12  2022-01-12  2022    1   12       2\n",
       "36537 2022-01-13  2022-01-13  2022    1   13       2"
      ]
     },
     "execution_count": 4,
     "metadata": {},
     "output_type": "execute_result"
    }
   ],
   "source": [
    "# Criação de novas colunas de data\n",
    "\n",
    "d_tempo_df['DATA'] = d_tempo_df['DATA_TEMPO'].dt.date\n",
    "d_tempo_df['ANO'] = d_tempo_df['DATA_TEMPO'].dt.year\n",
    "d_tempo_df['MES'] = d_tempo_df['DATA_TEMPO'].dt.month\n",
    "d_tempo_df['DIA'] = d_tempo_df['DATA_TEMPO'].dt.day\n",
    "d_tempo_df['SEMANA'] = d_tempo_df['DATA_TEMPO'].dt.isocalendar().week\n",
    "\n",
    "d_tempo_df.tail(3)"
   ]
  },
  {
   "cell_type": "code",
   "execution_count": 5,
   "metadata": {},
   "outputs": [],
   "source": [
    "# Conexão database SQLite\n",
    "consqlite = sqlite3.connect('C:/Users/matheus.candido/sqlite3/exploracao_petroleo_brasil.db', timeout=3)"
   ]
  },
  {
   "cell_type": "code",
   "execution_count": 6,
   "metadata": {},
   "outputs": [
    {
     "data": {
      "text/plain": [
       "<sqlite3.Cursor at 0x221f92495e0>"
      ]
     },
     "execution_count": 6,
     "metadata": {},
     "output_type": "execute_result"
    }
   ],
   "source": [
    "# Create table (DDL) SQLite d_tempo\n",
    "\n",
    "consqlite.execute('DROP TABLE D_TEMPO')\n",
    "consqlite.execute(f\"\"\"\n",
    "CREATE TABLE IF NOT EXISTS D_TEMPO (\n",
    "\tDATA VARCHAR(50) PRIMARY KEY,\n",
    "\tDATA_TEMPO VARCHAR(10) NOT NULL,\n",
    "\tANO VARCHAR(10) NOT NULL,\n",
    "\tMES VARCHAR(10) NOT NULL,\n",
    "\tDIA VARCHAR(10) NOT NULL,\n",
    "\tSEMANA VARCHAR(10) NOT NULL\n",
    ") \n",
    "\"\"\")"
   ]
  },
  {
   "cell_type": "code",
   "execution_count": 7,
   "metadata": {},
   "outputs": [
    {
     "name": "stdout",
     "output_type": "stream",
     "text": [
      "<class 'pandas.core.frame.DataFrame'>\n",
      "RangeIndex: 36538 entries, 0 to 36537\n",
      "Data columns (total 6 columns):\n",
      " #   Column      Non-Null Count  Dtype         \n",
      "---  ------      --------------  -----         \n",
      " 0   DATA_TEMPO  36538 non-null  datetime64[ns]\n",
      " 1   DATA        36538 non-null  object        \n",
      " 2   ANO         36538 non-null  int64         \n",
      " 3   MES         36538 non-null  int64         \n",
      " 4   DIA         36538 non-null  int64         \n",
      " 5   SEMANA      36538 non-null  UInt32        \n",
      "dtypes: UInt32(1), datetime64[ns](1), int64(3), object(1)\n",
      "memory usage: 1.6+ MB\n"
     ]
    }
   ],
   "source": [
    "# Insert de dados d_tempo de dataframe para database\n",
    "\n",
    "d_tempo_df.to_sql('D_TEMPO', consqlite, if_exists='append', index=False)\n",
    "d_tempo_df.info()"
   ]
  },
  {
   "cell_type": "code",
   "execution_count": 8,
   "metadata": {},
   "outputs": [
    {
     "data": {
      "text/html": [
       "<div>\n",
       "<style scoped>\n",
       "    .dataframe tbody tr th:only-of-type {\n",
       "        vertical-align: middle;\n",
       "    }\n",
       "\n",
       "    .dataframe tbody tr th {\n",
       "        vertical-align: top;\n",
       "    }\n",
       "\n",
       "    .dataframe thead th {\n",
       "        text-align: right;\n",
       "    }\n",
       "</style>\n",
       "<table border=\"1\" class=\"dataframe\">\n",
       "  <thead>\n",
       "    <tr style=\"text-align: right;\">\n",
       "      <th></th>\n",
       "      <th>DATA</th>\n",
       "      <th>DATA_TEMPO</th>\n",
       "      <th>ANO</th>\n",
       "      <th>MES</th>\n",
       "      <th>DIA</th>\n",
       "      <th>SEMANA</th>\n",
       "    </tr>\n",
       "  </thead>\n",
       "  <tbody>\n",
       "    <tr>\n",
       "      <th>36533</th>\n",
       "      <td>2022-01-09</td>\n",
       "      <td>2022-01-09 00:00:00</td>\n",
       "      <td>2022</td>\n",
       "      <td>1</td>\n",
       "      <td>9</td>\n",
       "      <td>1</td>\n",
       "    </tr>\n",
       "    <tr>\n",
       "      <th>36534</th>\n",
       "      <td>2022-01-10</td>\n",
       "      <td>2022-01-10 00:00:00</td>\n",
       "      <td>2022</td>\n",
       "      <td>1</td>\n",
       "      <td>10</td>\n",
       "      <td>2</td>\n",
       "    </tr>\n",
       "    <tr>\n",
       "      <th>36535</th>\n",
       "      <td>2022-01-11</td>\n",
       "      <td>2022-01-11 00:00:00</td>\n",
       "      <td>2022</td>\n",
       "      <td>1</td>\n",
       "      <td>11</td>\n",
       "      <td>2</td>\n",
       "    </tr>\n",
       "    <tr>\n",
       "      <th>36536</th>\n",
       "      <td>2022-01-12</td>\n",
       "      <td>2022-01-12 00:00:00</td>\n",
       "      <td>2022</td>\n",
       "      <td>1</td>\n",
       "      <td>12</td>\n",
       "      <td>2</td>\n",
       "    </tr>\n",
       "    <tr>\n",
       "      <th>36537</th>\n",
       "      <td>2022-01-13</td>\n",
       "      <td>2022-01-13 00:00:00</td>\n",
       "      <td>2022</td>\n",
       "      <td>1</td>\n",
       "      <td>13</td>\n",
       "      <td>2</td>\n",
       "    </tr>\n",
       "  </tbody>\n",
       "</table>\n",
       "</div>"
      ],
      "text/plain": [
       "             DATA           DATA_TEMPO   ANO MES DIA SEMANA\n",
       "36533  2022-01-09  2022-01-09 00:00:00  2022   1   9      1\n",
       "36534  2022-01-10  2022-01-10 00:00:00  2022   1  10      2\n",
       "36535  2022-01-11  2022-01-11 00:00:00  2022   1  11      2\n",
       "36536  2022-01-12  2022-01-12 00:00:00  2022   1  12      2\n",
       "36537  2022-01-13  2022-01-13 00:00:00  2022   1  13      2"
      ]
     },
     "execution_count": 8,
     "metadata": {},
     "output_type": "execute_result"
    }
   ],
   "source": [
    "# Informações de database d_tempo\n",
    "\n",
    "d_tempo_db = pd.read_sql_query('SELECT * FROM D_TEMPO', consqlite)\n",
    "d_tempo_db.tail()"
   ]
  }
 ],
 "metadata": {
  "interpreter": {
   "hash": "d3293ed44f275acf8125ba4530465ed2a74a16d8df4c8bfb247854afffb16d38"
  },
  "kernelspec": {
   "display_name": "Python 3.9.7 64-bit ('base': conda)",
   "language": "python",
   "name": "python3"
  },
  "language_info": {
   "codemirror_mode": {
    "name": "ipython",
    "version": 3
   },
   "file_extension": ".py",
   "mimetype": "text/x-python",
   "name": "python",
   "nbconvert_exporter": "python",
   "pygments_lexer": "ipython3",
   "version": "3.9.7"
  },
  "orig_nbformat": 4
 },
 "nbformat": 4,
 "nbformat_minor": 2
}
