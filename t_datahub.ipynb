{
 "cells": [
  {
   "cell_type": "code",
   "execution_count": 2,
   "metadata": {},
   "outputs": [],
   "source": [
    "import pandas as pd\n",
    "import sqlite3"
   ]
  },
  {
   "cell_type": "code",
   "execution_count": 3,
   "metadata": {},
   "outputs": [],
   "source": [
    "# Extração de dados\n",
    "\n",
    "datahub_df = pd.read_excel('source/tabela-de-pocos.xlsx', header=3, usecols='A:S,V:W,AA:AG,AM:BH')"
   ]
  },
  {
   "cell_type": "code",
   "execution_count": 4,
   "metadata": {},
   "outputs": [
    {
     "name": "stdout",
     "output_type": "stream",
     "text": [
      "<class 'pandas.core.frame.DataFrame'>\n",
      "RangeIndex: 30172 entries, 0 to 30171\n",
      "Data columns (total 50 columns):\n",
      " #   Column                      Non-Null Count  Dtype         \n",
      "---  ------                      --------------  -----         \n",
      " 0   POCO                        30172 non-null  object        \n",
      " 1   CADASTRO                    30172 non-null  int64         \n",
      " 2   OPERADOR                    27236 non-null  object        \n",
      " 3   POCO_OPERADOR               30172 non-null  object        \n",
      " 4   ESTADO                      30172 non-null  object        \n",
      " 5   BACIA                       30172 non-null  object        \n",
      " 6   BLOCO                       26759 non-null  object        \n",
      " 7   SIG_CAMPO                   26151 non-null  object        \n",
      " 8   CAMPO                       26151 non-null  object        \n",
      " 9   TERRA_MAR                   30172 non-null  object        \n",
      " 10  POCO_POS_ANP                30172 non-null  object        \n",
      " 11  TIPO                        30172 non-null  int64         \n",
      " 12  CATEGORIA                   30172 non-null  object        \n",
      " 13  RECLASSIFICACAO             29012 non-null  object        \n",
      " 14  SITUACAO                    30069 non-null  object        \n",
      " 15  INICIO                      30172 non-null  datetime64[ns]\n",
      " 16  TERMINO                     28342 non-null  datetime64[ns]\n",
      " 17  CONCLUSAO                   30021 non-null  datetime64[ns]\n",
      " 18  TITULARIDADE                30172 non-null  object        \n",
      " 19  LATITUDE_BASE_DD            30172 non-null  object        \n",
      " 20  LONGITUDE_BASE_DD           30172 non-null  object        \n",
      " 21  PROFUNDIDADE_VERTICAL_M     10792 non-null  float64       \n",
      " 22  PROFUNDIDADE_SONDADOR_M     29124 non-null  float64       \n",
      " 23  PROFUNDIDADE_MEDIDA_M       12344 non-null  float64       \n",
      " 24  REFERENCIA_DE_PROFUNDIDADE  30172 non-null  object        \n",
      " 25  MESA_ROTATIVA               30172 non-null  float64       \n",
      " 26  COTA_ALTIMETRICA_M          12911 non-null  float64       \n",
      " 27  LAMINA_D_AGUA_M             15383 non-null  float64       \n",
      " 28  CDPE                        8896 non-null   object        \n",
      " 29  AGP                         6910 non-null   object        \n",
      " 30  PC                          8369 non-null   object        \n",
      " 31  PAG                         1245 non-null   object        \n",
      " 32  PERFIS_CONVENCIONAIS        8001 non-null   object        \n",
      " 33  DURANTE_PERFURACAO          2884 non-null   object        \n",
      " 34  PERFIS_DIGITAIS             20743 non-null  object        \n",
      " 35  PERFIS_PROCESSADOS          739 non-null    object        \n",
      " 36  PERFIS_ESPECIAIS            660 non-null    object        \n",
      " 37  AMOSTRA_LATERAL             927 non-null    object        \n",
      " 38  SISMICA                     1688 non-null   object        \n",
      " 39  TABELA_TEMPO_PROFUNDIDADE   873 non-null    object        \n",
      " 40  DADOS_DIRECIONAIS           7475 non-null   object        \n",
      " 41  TESTE_A_CABO                4212 non-null   object        \n",
      " 42  TESTE_DE_FORMACAO           628 non-null    object        \n",
      " 43  CANHONEIO                   941 non-null    object        \n",
      " 44  TESTEMUNHO                  426 non-null    object        \n",
      " 45  GEOQUIMICA                  3146 non-null   object        \n",
      " 46  SIG_SONDA                   30089 non-null  object        \n",
      " 47  NOM_SONDA                   26018 non-null  object        \n",
      " 48  DHA_ATUALIZACAO             30172 non-null  datetime64[ns]\n",
      " 49  ATINGIU_PRESAL              6861 non-null   object        \n",
      "dtypes: datetime64[ns](4), float64(6), int64(2), object(38)\n",
      "memory usage: 11.5+ MB\n"
     ]
    }
   ],
   "source": [
    "datahub_df.info()"
   ]
  },
  {
   "cell_type": "code",
   "execution_count": 5,
   "metadata": {},
   "outputs": [],
   "source": [
    "# Conexão database SQLite\n",
    "\n",
    "consqlite = sqlite3.connect('C:/Users/matheus.candido/sqlite3/exploracao_petroleo_brasil.db', timeout=10)"
   ]
  },
  {
   "cell_type": "code",
   "execution_count": 6,
   "metadata": {},
   "outputs": [],
   "source": [
    "# Insert de dados t_datahub de dataframe para database\n",
    "\n",
    "datahub_df.to_sql('T_DATAHUB', consqlite, index=False, if_exists='replace')"
   ]
  },
  {
   "cell_type": "code",
   "execution_count": 7,
   "metadata": {},
   "outputs": [
    {
     "data": {
      "text/html": [
       "<div>\n",
       "<style scoped>\n",
       "    .dataframe tbody tr th:only-of-type {\n",
       "        vertical-align: middle;\n",
       "    }\n",
       "\n",
       "    .dataframe tbody tr th {\n",
       "        vertical-align: top;\n",
       "    }\n",
       "\n",
       "    .dataframe thead th {\n",
       "        text-align: right;\n",
       "    }\n",
       "</style>\n",
       "<table border=\"1\" class=\"dataframe\">\n",
       "  <thead>\n",
       "    <tr style=\"text-align: right;\">\n",
       "      <th></th>\n",
       "      <th>POCOS_ORIGEM</th>\n",
       "    </tr>\n",
       "  </thead>\n",
       "  <tbody>\n",
       "    <tr>\n",
       "      <th>0</th>\n",
       "      <td>30172</td>\n",
       "    </tr>\n",
       "  </tbody>\n",
       "</table>\n",
       "</div>"
      ],
      "text/plain": [
       "   POCOS_ORIGEM\n",
       "0         30172"
      ]
     },
     "execution_count": 7,
     "metadata": {},
     "output_type": "execute_result"
    }
   ],
   "source": [
    "# Quantidade de registros database t_datahub\n",
    "\n",
    "datahub_db = pd.read_sql_query('SELECT COUNT(*) POCOS_ORIGEM FROM T_DATAHUB', consqlite)\n",
    "datahub_db"
   ]
  }
 ],
 "metadata": {
  "interpreter": {
   "hash": "d3293ed44f275acf8125ba4530465ed2a74a16d8df4c8bfb247854afffb16d38"
  },
  "kernelspec": {
   "display_name": "Python 3.9.7 64-bit ('base': conda)",
   "language": "python",
   "name": "python3"
  },
  "language_info": {
   "codemirror_mode": {
    "name": "ipython",
    "version": 3
   },
   "file_extension": ".py",
   "mimetype": "text/x-python",
   "name": "python",
   "nbconvert_exporter": "python",
   "pygments_lexer": "ipython3",
   "version": "3.9.7"
  },
  "orig_nbformat": 4
 },
 "nbformat": 4,
 "nbformat_minor": 2
}
