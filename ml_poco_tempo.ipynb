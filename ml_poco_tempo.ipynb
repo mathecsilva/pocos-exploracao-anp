{
 "cells": [
  {
   "cell_type": "code",
   "execution_count": 1,
   "metadata": {},
   "outputs": [],
   "source": [
    "import pandas as pd\n",
    "import sqlite3\n",
    "import numpy as np\n",
    "import matplotlib.pyplot as plt"
   ]
  },
  {
   "cell_type": "code",
   "execution_count": 2,
   "metadata": {},
   "outputs": [],
   "source": [
    "# Conexão database SQLite\n",
    "\n",
    "consqlite = sqlite3.connect('C:/Users/matheus.candido/sqlite3/exploracao_petroleo_brasil.db', timeout=10)"
   ]
  },
  {
   "cell_type": "code",
   "execution_count": 3,
   "metadata": {},
   "outputs": [],
   "source": [
    "# Consulta QTD Poços por ano desde 2010\n",
    "\n",
    "query = f\"\"\"\n",
    "SELECT\n",
    "        COALESCE(FATO.QTD_POCO, TEMPO.QTD_POCO) QTD_POCO,\n",
    "        COALESCE(FATO.ANO, TEMPO.ANO) ANO_MES\n",
    "FROM (\n",
    "        SELECT\n",
    "                0 QTD_POCO,\n",
    "                SUBSTRING(DATA, 1, 7) ANO\n",
    "\tFROM D_TEMPO dt\n",
    "\tWHERE DATA BETWEEN '2010-01-01' AND '2021-06-31'\n",
    "        --WHERE DATA < '2022-01-01'\n",
    "\tGROUP BY 2\n",
    "\t) TEMPO\n",
    "LEFT JOIN (\n",
    "        SELECT \n",
    "                COUNT(COD_POCO) QTD_POCO,\n",
    "                SUBSTRING(DT_INICIO , 1, 7) ANO\n",
    "\t FROM F_EXPLORACAO fe\n",
    "         WHERE DT_INICIO BETWEEN '2010-01-01' AND '2021-06-31'\n",
    "         --WHERE DT_INICIO < '2022-01-01'\n",
    "\t GROUP BY 2\n",
    "\t ) FATO\n",
    " ON TEMPO.ANO = FATO.ANO\n",
    "\"\"\""
   ]
  },
  {
   "cell_type": "code",
   "execution_count": 4,
   "metadata": {},
   "outputs": [
    {
     "data": {
      "text/html": [
       "<div>\n",
       "<style scoped>\n",
       "    .dataframe tbody tr th:only-of-type {\n",
       "        vertical-align: middle;\n",
       "    }\n",
       "\n",
       "    .dataframe tbody tr th {\n",
       "        vertical-align: top;\n",
       "    }\n",
       "\n",
       "    .dataframe thead th {\n",
       "        text-align: right;\n",
       "    }\n",
       "</style>\n",
       "<table border=\"1\" class=\"dataframe\">\n",
       "  <thead>\n",
       "    <tr style=\"text-align: right;\">\n",
       "      <th></th>\n",
       "      <th>QTD_POCO</th>\n",
       "      <th>ANO_MES</th>\n",
       "    </tr>\n",
       "  </thead>\n",
       "  <tbody>\n",
       "    <tr>\n",
       "      <th>133</th>\n",
       "      <td>6</td>\n",
       "      <td>2021-02</td>\n",
       "    </tr>\n",
       "    <tr>\n",
       "      <th>134</th>\n",
       "      <td>5</td>\n",
       "      <td>2021-03</td>\n",
       "    </tr>\n",
       "    <tr>\n",
       "      <th>135</th>\n",
       "      <td>7</td>\n",
       "      <td>2021-04</td>\n",
       "    </tr>\n",
       "    <tr>\n",
       "      <th>136</th>\n",
       "      <td>11</td>\n",
       "      <td>2021-05</td>\n",
       "    </tr>\n",
       "    <tr>\n",
       "      <th>137</th>\n",
       "      <td>8</td>\n",
       "      <td>2021-06</td>\n",
       "    </tr>\n",
       "  </tbody>\n",
       "</table>\n",
       "</div>"
      ],
      "text/plain": [
       "     QTD_POCO  ANO_MES\n",
       "133         6  2021-02\n",
       "134         5  2021-03\n",
       "135         7  2021-04\n",
       "136        11  2021-05\n",
       "137         8  2021-06"
      ]
     },
     "execution_count": 4,
     "metadata": {},
     "output_type": "execute_result"
    }
   ],
   "source": [
    "# Importação de QTD Poços por ano\n",
    "\n",
    "t_pocos = pd.read_sql_query(query, consqlite)\n",
    "t_pocos.tail(5)"
   ]
  },
  {
   "cell_type": "code",
   "execution_count": 5,
   "metadata": {},
   "outputs": [
    {
     "name": "stdout",
     "output_type": "stream",
     "text": [
      "<class 'pandas.core.frame.DataFrame'>\n",
      "RangeIndex: 138 entries, 0 to 137\n",
      "Data columns (total 2 columns):\n",
      " #   Column    Non-Null Count  Dtype \n",
      "---  ------    --------------  ----- \n",
      " 0   QTD_POCO  138 non-null    int64 \n",
      " 1   ANO_MES   138 non-null    object\n",
      "dtypes: int64(1), object(1)\n",
      "memory usage: 2.3+ KB\n"
     ]
    }
   ],
   "source": [
    "# Info e conferência de nulos\n",
    "\n",
    "t_pocos.info()"
   ]
  },
  {
   "cell_type": "code",
   "execution_count": 6,
   "metadata": {},
   "outputs": [],
   "source": [
    "# Conversão de período para data\n",
    "\n",
    "t_pocos['ANO_MES'] = pd.to_datetime(t_pocos['ANO_MES'])"
   ]
  },
  {
   "cell_type": "code",
   "execution_count": 7,
   "metadata": {},
   "outputs": [],
   "source": [
    "# Indexação de data\n",
    "\n",
    "t_pocos.set_index('ANO_MES', drop=True, inplace=True)"
   ]
  },
  {
   "cell_type": "code",
   "execution_count": 8,
   "metadata": {},
   "outputs": [],
   "source": [
    "# pacote PyCaret\n",
    "\n",
    "from pycaret.time_series import *"
   ]
  },
  {
   "cell_type": "code",
   "execution_count": 9,
   "metadata": {},
   "outputs": [
    {
     "data": {
      "text/html": [
       "<style type=\"text/css\">\n",
       "#T_10340_row14_col1, #T_10340_row17_col1, #T_10340_row19_col1 {\n",
       "  background-color: lightgreen;\n",
       "}\n",
       "</style>\n",
       "<table id=\"T_10340_\">\n",
       "  <thead>\n",
       "    <tr>\n",
       "      <th class=\"blank level0\" >&nbsp;</th>\n",
       "      <th class=\"col_heading level0 col0\" >Description</th>\n",
       "      <th class=\"col_heading level0 col1\" >Value</th>\n",
       "    </tr>\n",
       "  </thead>\n",
       "  <tbody>\n",
       "    <tr>\n",
       "      <th id=\"T_10340_level0_row0\" class=\"row_heading level0 row0\" >0</th>\n",
       "      <td id=\"T_10340_row0_col0\" class=\"data row0 col0\" >session_id</td>\n",
       "      <td id=\"T_10340_row0_col1\" class=\"data row0 col1\" >2335</td>\n",
       "    </tr>\n",
       "    <tr>\n",
       "      <th id=\"T_10340_level0_row1\" class=\"row_heading level0 row1\" >1</th>\n",
       "      <td id=\"T_10340_row1_col0\" class=\"data row1 col0\" >Target</td>\n",
       "      <td id=\"T_10340_row1_col1\" class=\"data row1 col1\" >QTD_POCO</td>\n",
       "    </tr>\n",
       "    <tr>\n",
       "      <th id=\"T_10340_level0_row2\" class=\"row_heading level0 row2\" >2</th>\n",
       "      <td id=\"T_10340_row2_col0\" class=\"data row2 col0\" >Original Data</td>\n",
       "      <td id=\"T_10340_row2_col1\" class=\"data row2 col1\" >(138, 1)</td>\n",
       "    </tr>\n",
       "    <tr>\n",
       "      <th id=\"T_10340_level0_row3\" class=\"row_heading level0 row3\" >3</th>\n",
       "      <td id=\"T_10340_row3_col0\" class=\"data row3 col0\" >Missing Values</td>\n",
       "      <td id=\"T_10340_row3_col1\" class=\"data row3 col1\" >False</td>\n",
       "    </tr>\n",
       "    <tr>\n",
       "      <th id=\"T_10340_level0_row4\" class=\"row_heading level0 row4\" >4</th>\n",
       "      <td id=\"T_10340_row4_col0\" class=\"data row4 col0\" >Approach</td>\n",
       "      <td id=\"T_10340_row4_col1\" class=\"data row4 col1\" >Univariate</td>\n",
       "    </tr>\n",
       "    <tr>\n",
       "      <th id=\"T_10340_level0_row5\" class=\"row_heading level0 row5\" >5</th>\n",
       "      <td id=\"T_10340_row5_col0\" class=\"data row5 col0\" >Exogenous Variables</td>\n",
       "      <td id=\"T_10340_row5_col1\" class=\"data row5 col1\" >Not Present</td>\n",
       "    </tr>\n",
       "    <tr>\n",
       "      <th id=\"T_10340_level0_row6\" class=\"row_heading level0 row6\" >6</th>\n",
       "      <td id=\"T_10340_row6_col0\" class=\"data row6 col0\" >Transformed Train Target</td>\n",
       "      <td id=\"T_10340_row6_col1\" class=\"data row6 col1\" >(126,)</td>\n",
       "    </tr>\n",
       "    <tr>\n",
       "      <th id=\"T_10340_level0_row7\" class=\"row_heading level0 row7\" >7</th>\n",
       "      <td id=\"T_10340_row7_col0\" class=\"data row7 col0\" >Transformed Test Target</td>\n",
       "      <td id=\"T_10340_row7_col1\" class=\"data row7 col1\" >(12,)</td>\n",
       "    </tr>\n",
       "    <tr>\n",
       "      <th id=\"T_10340_level0_row8\" class=\"row_heading level0 row8\" >8</th>\n",
       "      <td id=\"T_10340_row8_col0\" class=\"data row8 col0\" >Transformed Train Exogenous</td>\n",
       "      <td id=\"T_10340_row8_col1\" class=\"data row8 col1\" >(126, 0)</td>\n",
       "    </tr>\n",
       "    <tr>\n",
       "      <th id=\"T_10340_level0_row9\" class=\"row_heading level0 row9\" >9</th>\n",
       "      <td id=\"T_10340_row9_col0\" class=\"data row9 col0\" >Transformed Test Exogenous</td>\n",
       "      <td id=\"T_10340_row9_col1\" class=\"data row9 col1\" >(12, 0)</td>\n",
       "    </tr>\n",
       "    <tr>\n",
       "      <th id=\"T_10340_level0_row10\" class=\"row_heading level0 row10\" >10</th>\n",
       "      <td id=\"T_10340_row10_col0\" class=\"data row10 col0\" >Fold Generator</td>\n",
       "      <td id=\"T_10340_row10_col1\" class=\"data row10 col1\" >ExpandingWindowSplitter</td>\n",
       "    </tr>\n",
       "    <tr>\n",
       "      <th id=\"T_10340_level0_row11\" class=\"row_heading level0 row11\" >11</th>\n",
       "      <td id=\"T_10340_row11_col0\" class=\"data row11 col0\" >Fold Number</td>\n",
       "      <td id=\"T_10340_row11_col1\" class=\"data row11 col1\" >3</td>\n",
       "    </tr>\n",
       "    <tr>\n",
       "      <th id=\"T_10340_level0_row12\" class=\"row_heading level0 row12\" >12</th>\n",
       "      <td id=\"T_10340_row12_col0\" class=\"data row12 col0\" >Enforce Prediction Interval</td>\n",
       "      <td id=\"T_10340_row12_col1\" class=\"data row12 col1\" >False</td>\n",
       "    </tr>\n",
       "    <tr>\n",
       "      <th id=\"T_10340_level0_row13\" class=\"row_heading level0 row13\" >13</th>\n",
       "      <td id=\"T_10340_row13_col0\" class=\"data row13 col0\" >Seasonal Period(s) Tested</td>\n",
       "      <td id=\"T_10340_row13_col1\" class=\"data row13 col1\" >12</td>\n",
       "    </tr>\n",
       "    <tr>\n",
       "      <th id=\"T_10340_level0_row14\" class=\"row_heading level0 row14\" >14</th>\n",
       "      <td id=\"T_10340_row14_col0\" class=\"data row14 col0\" >Seasonality Present</td>\n",
       "      <td id=\"T_10340_row14_col1\" class=\"data row14 col1\" >True</td>\n",
       "    </tr>\n",
       "    <tr>\n",
       "      <th id=\"T_10340_level0_row15\" class=\"row_heading level0 row15\" >15</th>\n",
       "      <td id=\"T_10340_row15_col0\" class=\"data row15 col0\" >Seasonalities Detected</td>\n",
       "      <td id=\"T_10340_row15_col1\" class=\"data row15 col1\" >[12]</td>\n",
       "    </tr>\n",
       "    <tr>\n",
       "      <th id=\"T_10340_level0_row16\" class=\"row_heading level0 row16\" >16</th>\n",
       "      <td id=\"T_10340_row16_col0\" class=\"data row16 col0\" >Primary Seasonality</td>\n",
       "      <td id=\"T_10340_row16_col1\" class=\"data row16 col1\" >12</td>\n",
       "    </tr>\n",
       "    <tr>\n",
       "      <th id=\"T_10340_level0_row17\" class=\"row_heading level0 row17\" >17</th>\n",
       "      <td id=\"T_10340_row17_col0\" class=\"data row17 col0\" >Target Strictly Positive</td>\n",
       "      <td id=\"T_10340_row17_col1\" class=\"data row17 col1\" >True</td>\n",
       "    </tr>\n",
       "    <tr>\n",
       "      <th id=\"T_10340_level0_row18\" class=\"row_heading level0 row18\" >18</th>\n",
       "      <td id=\"T_10340_row18_col0\" class=\"data row18 col0\" >Target White Noise</td>\n",
       "      <td id=\"T_10340_row18_col1\" class=\"data row18 col1\" >No</td>\n",
       "    </tr>\n",
       "    <tr>\n",
       "      <th id=\"T_10340_level0_row19\" class=\"row_heading level0 row19\" >19</th>\n",
       "      <td id=\"T_10340_row19_col0\" class=\"data row19 col0\" >Recommended d</td>\n",
       "      <td id=\"T_10340_row19_col1\" class=\"data row19 col1\" >1</td>\n",
       "    </tr>\n",
       "    <tr>\n",
       "      <th id=\"T_10340_level0_row20\" class=\"row_heading level0 row20\" >20</th>\n",
       "      <td id=\"T_10340_row20_col0\" class=\"data row20 col0\" >Recommended Seasonal D</td>\n",
       "      <td id=\"T_10340_row20_col1\" class=\"data row20 col1\" >0</td>\n",
       "    </tr>\n",
       "    <tr>\n",
       "      <th id=\"T_10340_level0_row21\" class=\"row_heading level0 row21\" >21</th>\n",
       "      <td id=\"T_10340_row21_col0\" class=\"data row21 col0\" >CPU Jobs</td>\n",
       "      <td id=\"T_10340_row21_col1\" class=\"data row21 col1\" >-1</td>\n",
       "    </tr>\n",
       "    <tr>\n",
       "      <th id=\"T_10340_level0_row22\" class=\"row_heading level0 row22\" >22</th>\n",
       "      <td id=\"T_10340_row22_col0\" class=\"data row22 col0\" >Use GPU</td>\n",
       "      <td id=\"T_10340_row22_col1\" class=\"data row22 col1\" >False</td>\n",
       "    </tr>\n",
       "    <tr>\n",
       "      <th id=\"T_10340_level0_row23\" class=\"row_heading level0 row23\" >23</th>\n",
       "      <td id=\"T_10340_row23_col0\" class=\"data row23 col0\" >Log Experiment</td>\n",
       "      <td id=\"T_10340_row23_col1\" class=\"data row23 col1\" >False</td>\n",
       "    </tr>\n",
       "    <tr>\n",
       "      <th id=\"T_10340_level0_row24\" class=\"row_heading level0 row24\" >24</th>\n",
       "      <td id=\"T_10340_row24_col0\" class=\"data row24 col0\" >Experiment Name</td>\n",
       "      <td id=\"T_10340_row24_col1\" class=\"data row24 col1\" >ts-default-name</td>\n",
       "    </tr>\n",
       "    <tr>\n",
       "      <th id=\"T_10340_level0_row25\" class=\"row_heading level0 row25\" >25</th>\n",
       "      <td id=\"T_10340_row25_col0\" class=\"data row25 col0\" >USI</td>\n",
       "      <td id=\"T_10340_row25_col1\" class=\"data row25 col1\" >cb22</td>\n",
       "    </tr>\n",
       "    <tr>\n",
       "      <th id=\"T_10340_level0_row26\" class=\"row_heading level0 row26\" >26</th>\n",
       "      <td id=\"T_10340_row26_col0\" class=\"data row26 col0\" >Imputation Type</td>\n",
       "      <td id=\"T_10340_row26_col1\" class=\"data row26 col1\" >simple</td>\n",
       "    </tr>\n",
       "  </tbody>\n",
       "</table>\n"
      ],
      "text/plain": [
       "<pandas.io.formats.style.Styler at 0x1b601c3dd60>"
      ]
     },
     "metadata": {},
     "output_type": "display_data"
    },
    {
     "data": {
      "text/plain": [
       "<pycaret.internal.pycaret_experiment.time_series_experiment.TSForecastingExperiment at 0x1b60150b8b0>"
      ]
     },
     "execution_count": 9,
     "metadata": {},
     "output_type": "execute_result"
    }
   ],
   "source": [
    "# Configuração série temporal\n",
    "\n",
    "setup(t_pocos, fh=12, fold=3)"
   ]
  },
  {
   "cell_type": "code",
   "execution_count": 10,
   "metadata": {},
   "outputs": [
    {
     "data": {
      "text/html": [
       "<style type=\"text/css\">\n",
       "#T_ce582_row3_col0, #T_ce582_row3_col1, #T_ce582_row3_col2, #T_ce582_row3_col3, #T_ce582_row3_col4, #T_ce582_row3_col5, #T_ce582_row3_col6, #T_ce582_row3_col7 {\n",
       "  background: yellow;\n",
       "}\n",
       "</style>\n",
       "<table id=\"T_ce582_\">\n",
       "  <thead>\n",
       "    <tr>\n",
       "      <th class=\"blank level0\" >&nbsp;</th>\n",
       "      <th class=\"col_heading level0 col0\" >cutoff</th>\n",
       "      <th class=\"col_heading level0 col1\" >MAE</th>\n",
       "      <th class=\"col_heading level0 col2\" >RMSE</th>\n",
       "      <th class=\"col_heading level0 col3\" >MAPE</th>\n",
       "      <th class=\"col_heading level0 col4\" >SMAPE</th>\n",
       "      <th class=\"col_heading level0 col5\" >MASE</th>\n",
       "      <th class=\"col_heading level0 col6\" >RMSSE</th>\n",
       "      <th class=\"col_heading level0 col7\" >R2</th>\n",
       "    </tr>\n",
       "  </thead>\n",
       "  <tbody>\n",
       "    <tr>\n",
       "      <th id=\"T_ce582_level0_row0\" class=\"row_heading level0 row0\" >0</th>\n",
       "      <td id=\"T_ce582_row0_col0\" class=\"data row0 col0\" >2017-06</td>\n",
       "      <td id=\"T_ce582_row0_col1\" class=\"data row0 col1\" >4.5576</td>\n",
       "      <td id=\"T_ce582_row0_col2\" class=\"data row0 col2\" >5.0303</td>\n",
       "      <td id=\"T_ce582_row0_col3\" class=\"data row0 col3\" >0.2701</td>\n",
       "      <td id=\"T_ce582_row0_col4\" class=\"data row0 col4\" >0.2574</td>\n",
       "      <td id=\"T_ce582_row0_col5\" class=\"data row0 col5\" >0.2795</td>\n",
       "      <td id=\"T_ce582_row0_col6\" class=\"data row0 col6\" >0.2452</td>\n",
       "      <td id=\"T_ce582_row0_col7\" class=\"data row0 col7\" >0.0419</td>\n",
       "    </tr>\n",
       "    <tr>\n",
       "      <th id=\"T_ce582_level0_row1\" class=\"row_heading level0 row1\" >1</th>\n",
       "      <td id=\"T_ce582_row1_col0\" class=\"data row1 col0\" >2018-06</td>\n",
       "      <td id=\"T_ce582_row1_col1\" class=\"data row1 col1\" >3.0093</td>\n",
       "      <td id=\"T_ce582_row1_col2\" class=\"data row1 col2\" >3.6458</td>\n",
       "      <td id=\"T_ce582_row1_col3\" class=\"data row1 col3\" >0.2466</td>\n",
       "      <td id=\"T_ce582_row1_col4\" class=\"data row1 col4\" >0.2281</td>\n",
       "      <td id=\"T_ce582_row1_col5\" class=\"data row1 col5\" >0.1986</td>\n",
       "      <td id=\"T_ce582_row1_col6\" class=\"data row1 col6\" >0.1878</td>\n",
       "      <td id=\"T_ce582_row1_col7\" class=\"data row1 col7\" >-0.3789</td>\n",
       "    </tr>\n",
       "    <tr>\n",
       "      <th id=\"T_ce582_level0_row2\" class=\"row_heading level0 row2\" >2</th>\n",
       "      <td id=\"T_ce582_row2_col0\" class=\"data row2 col0\" >2019-06</td>\n",
       "      <td id=\"T_ce582_row2_col1\" class=\"data row2 col1\" >4.0855</td>\n",
       "      <td id=\"T_ce582_row2_col2\" class=\"data row2 col2\" >4.5769</td>\n",
       "      <td id=\"T_ce582_row2_col3\" class=\"data row2 col3\" >0.2395</td>\n",
       "      <td id=\"T_ce582_row2_col4\" class=\"data row2 col4\" >0.2770</td>\n",
       "      <td id=\"T_ce582_row2_col5\" class=\"data row2 col5\" >0.2888</td>\n",
       "      <td id=\"T_ce582_row2_col6\" class=\"data row2 col6\" >0.2480</td>\n",
       "      <td id=\"T_ce582_row2_col7\" class=\"data row2 col7\" >-0.6909</td>\n",
       "    </tr>\n",
       "    <tr>\n",
       "      <th id=\"T_ce582_level0_row3\" class=\"row_heading level0 row3\" >Mean</th>\n",
       "      <td id=\"T_ce582_row3_col0\" class=\"data row3 col0\" >NaT</td>\n",
       "      <td id=\"T_ce582_row3_col1\" class=\"data row3 col1\" >3.8841</td>\n",
       "      <td id=\"T_ce582_row3_col2\" class=\"data row3 col2\" >4.4177</td>\n",
       "      <td id=\"T_ce582_row3_col3\" class=\"data row3 col3\" >0.2521</td>\n",
       "      <td id=\"T_ce582_row3_col4\" class=\"data row3 col4\" >0.2541</td>\n",
       "      <td id=\"T_ce582_row3_col5\" class=\"data row3 col5\" >0.2556</td>\n",
       "      <td id=\"T_ce582_row3_col6\" class=\"data row3 col6\" >0.2270</td>\n",
       "      <td id=\"T_ce582_row3_col7\" class=\"data row3 col7\" >-0.3427</td>\n",
       "    </tr>\n",
       "    <tr>\n",
       "      <th id=\"T_ce582_level0_row4\" class=\"row_heading level0 row4\" >SD</th>\n",
       "      <td id=\"T_ce582_row4_col0\" class=\"data row4 col0\" >NaT</td>\n",
       "      <td id=\"T_ce582_row4_col1\" class=\"data row4 col1\" >0.6479</td>\n",
       "      <td id=\"T_ce582_row4_col2\" class=\"data row4 col2\" >0.5763</td>\n",
       "      <td id=\"T_ce582_row4_col3\" class=\"data row4 col3\" >0.0131</td>\n",
       "      <td id=\"T_ce582_row4_col4\" class=\"data row4 col4\" >0.0201</td>\n",
       "      <td id=\"T_ce582_row4_col5\" class=\"data row4 col5\" >0.0405</td>\n",
       "      <td id=\"T_ce582_row4_col6\" class=\"data row4 col6\" >0.0277</td>\n",
       "      <td id=\"T_ce582_row4_col7\" class=\"data row4 col7\" >0.3003</td>\n",
       "    </tr>\n",
       "  </tbody>\n",
       "</table>\n"
      ],
      "text/plain": [
       "<pandas.io.formats.style.Styler at 0x1b60275faf0>"
      ]
     },
     "metadata": {},
     "output_type": "display_data"
    }
   ],
   "source": [
    "# Criação do modelo\n",
    "\n",
    "exp_smooth = create_model('exp_smooth')"
   ]
  },
  {
   "cell_type": "code",
   "execution_count": 11,
   "metadata": {},
   "outputs": [
    {
     "data": {
      "application/vnd.plotly.v1+json": {
       "config": {
        "plotlyServerURL": "https://plot.ly"
       },
       "data": [
        {
         "marker": {
          "color": "#1f77b4"
         },
         "mode": "lines+markers",
         "name": "Train",
         "type": "scatter",
         "x": [
          "2010-01-01T00:00:00",
          "2010-02-01T00:00:00",
          "2010-03-01T00:00:00",
          "2010-04-01T00:00:00",
          "2010-05-01T00:00:00",
          "2010-06-01T00:00:00",
          "2010-07-01T00:00:00",
          "2010-08-01T00:00:00",
          "2010-09-01T00:00:00",
          "2010-10-01T00:00:00",
          "2010-11-01T00:00:00",
          "2010-12-01T00:00:00",
          "2011-01-01T00:00:00",
          "2011-02-01T00:00:00",
          "2011-03-01T00:00:00",
          "2011-04-01T00:00:00",
          "2011-05-01T00:00:00",
          "2011-06-01T00:00:00",
          "2011-07-01T00:00:00",
          "2011-08-01T00:00:00",
          "2011-09-01T00:00:00",
          "2011-10-01T00:00:00",
          "2011-11-01T00:00:00",
          "2011-12-01T00:00:00",
          "2012-01-01T00:00:00",
          "2012-02-01T00:00:00",
          "2012-03-01T00:00:00",
          "2012-04-01T00:00:00",
          "2012-05-01T00:00:00",
          "2012-06-01T00:00:00",
          "2012-07-01T00:00:00",
          "2012-08-01T00:00:00",
          "2012-09-01T00:00:00",
          "2012-10-01T00:00:00",
          "2012-11-01T00:00:00",
          "2012-12-01T00:00:00",
          "2013-01-01T00:00:00",
          "2013-02-01T00:00:00",
          "2013-03-01T00:00:00",
          "2013-04-01T00:00:00",
          "2013-05-01T00:00:00",
          "2013-06-01T00:00:00",
          "2013-07-01T00:00:00",
          "2013-08-01T00:00:00",
          "2013-09-01T00:00:00",
          "2013-10-01T00:00:00",
          "2013-11-01T00:00:00",
          "2013-12-01T00:00:00",
          "2014-01-01T00:00:00",
          "2014-02-01T00:00:00",
          "2014-03-01T00:00:00",
          "2014-04-01T00:00:00",
          "2014-05-01T00:00:00",
          "2014-06-01T00:00:00",
          "2014-07-01T00:00:00",
          "2014-08-01T00:00:00",
          "2014-09-01T00:00:00",
          "2014-10-01T00:00:00",
          "2014-11-01T00:00:00",
          "2014-12-01T00:00:00",
          "2015-01-01T00:00:00",
          "2015-02-01T00:00:00",
          "2015-03-01T00:00:00",
          "2015-04-01T00:00:00",
          "2015-05-01T00:00:00",
          "2015-06-01T00:00:00",
          "2015-07-01T00:00:00",
          "2015-08-01T00:00:00",
          "2015-09-01T00:00:00",
          "2015-10-01T00:00:00",
          "2015-11-01T00:00:00",
          "2015-12-01T00:00:00",
          "2016-01-01T00:00:00",
          "2016-02-01T00:00:00",
          "2016-03-01T00:00:00",
          "2016-04-01T00:00:00",
          "2016-05-01T00:00:00",
          "2016-06-01T00:00:00",
          "2016-07-01T00:00:00",
          "2016-08-01T00:00:00",
          "2016-09-01T00:00:00",
          "2016-10-01T00:00:00",
          "2016-11-01T00:00:00",
          "2016-12-01T00:00:00",
          "2017-01-01T00:00:00",
          "2017-02-01T00:00:00",
          "2017-03-01T00:00:00",
          "2017-04-01T00:00:00",
          "2017-05-01T00:00:00",
          "2017-06-01T00:00:00",
          "2017-07-01T00:00:00",
          "2017-08-01T00:00:00",
          "2017-09-01T00:00:00",
          "2017-10-01T00:00:00",
          "2017-11-01T00:00:00",
          "2017-12-01T00:00:00",
          "2018-01-01T00:00:00",
          "2018-02-01T00:00:00",
          "2018-03-01T00:00:00",
          "2018-04-01T00:00:00",
          "2018-05-01T00:00:00",
          "2018-06-01T00:00:00",
          "2018-07-01T00:00:00",
          "2018-08-01T00:00:00",
          "2018-09-01T00:00:00",
          "2018-10-01T00:00:00",
          "2018-11-01T00:00:00",
          "2018-12-01T00:00:00",
          "2019-01-01T00:00:00",
          "2019-02-01T00:00:00",
          "2019-03-01T00:00:00",
          "2019-04-01T00:00:00",
          "2019-05-01T00:00:00",
          "2019-06-01T00:00:00",
          "2019-07-01T00:00:00",
          "2019-08-01T00:00:00",
          "2019-09-01T00:00:00",
          "2019-10-01T00:00:00",
          "2019-11-01T00:00:00",
          "2019-12-01T00:00:00",
          "2020-01-01T00:00:00",
          "2020-02-01T00:00:00",
          "2020-03-01T00:00:00",
          "2020-04-01T00:00:00",
          "2020-05-01T00:00:00",
          "2020-06-01T00:00:00"
         ],
         "y": [
          76,
          73,
          63,
          58,
          73,
          68,
          79,
          77,
          58,
          78,
          61,
          51,
          59,
          57,
          50,
          47,
          61,
          57,
          55,
          62,
          53,
          55,
          67,
          71,
          61,
          58,
          60,
          81,
          70,
          66,
          67,
          65,
          71,
          75,
          76,
          69,
          67,
          55,
          73,
          56,
          61,
          57,
          44,
          44,
          37,
          39,
          41,
          36,
          46,
          46,
          61,
          42,
          42,
          45,
          48,
          52,
          50,
          58,
          52,
          51,
          58,
          55,
          50,
          47,
          62,
          49,
          58,
          58,
          57,
          62,
          55,
          54,
          43,
          36,
          20,
          25,
          20,
          19,
          24,
          18,
          14,
          7,
          9,
          8,
          18,
          17,
          19,
          24,
          19,
          22,
          18,
          18,
          15,
          26,
          26,
          21,
          24,
          8,
          14,
          18,
          23,
          16,
          19,
          11,
          15,
          16,
          13,
          13,
          8,
          15,
          14,
          9,
          16,
          17,
          19,
          21,
          18,
          19,
          16,
          16,
          16,
          18,
          19,
          11,
          15,
          8
         ]
        },
        {
         "marker": {
          "color": "#FFA500"
         },
         "mode": "lines+markers",
         "name": "Test",
         "type": "scatter",
         "x": [
          "2020-07-01T00:00:00",
          "2020-08-01T00:00:00",
          "2020-09-01T00:00:00",
          "2020-10-01T00:00:00",
          "2020-11-01T00:00:00",
          "2020-12-01T00:00:00",
          "2021-01-01T00:00:00",
          "2021-02-01T00:00:00",
          "2021-03-01T00:00:00",
          "2021-04-01T00:00:00",
          "2021-05-01T00:00:00",
          "2021-06-01T00:00:00"
         ],
         "y": [
          8,
          8,
          7,
          10,
          7,
          12,
          4,
          6,
          5,
          7,
          11,
          8
         ]
        }
       ],
       "layout": {
        "showlegend": true,
        "template": {
         "data": {
          "bar": [
           {
            "error_x": {
             "color": "rgb(51,51,51)"
            },
            "error_y": {
             "color": "rgb(51,51,51)"
            },
            "marker": {
             "line": {
              "color": "rgb(237,237,237)",
              "width": 0.5
             },
             "pattern": {
              "fillmode": "overlay",
              "size": 10,
              "solidity": 0.2
             }
            },
            "type": "bar"
           }
          ],
          "barpolar": [
           {
            "marker": {
             "line": {
              "color": "rgb(237,237,237)",
              "width": 0.5
             },
             "pattern": {
              "fillmode": "overlay",
              "size": 10,
              "solidity": 0.2
             }
            },
            "type": "barpolar"
           }
          ],
          "carpet": [
           {
            "aaxis": {
             "endlinecolor": "rgb(51,51,51)",
             "gridcolor": "white",
             "linecolor": "white",
             "minorgridcolor": "white",
             "startlinecolor": "rgb(51,51,51)"
            },
            "baxis": {
             "endlinecolor": "rgb(51,51,51)",
             "gridcolor": "white",
             "linecolor": "white",
             "minorgridcolor": "white",
             "startlinecolor": "rgb(51,51,51)"
            },
            "type": "carpet"
           }
          ],
          "choropleth": [
           {
            "colorbar": {
             "outlinewidth": 0,
             "tickcolor": "rgb(237,237,237)",
             "ticklen": 6,
             "ticks": "inside"
            },
            "type": "choropleth"
           }
          ],
          "contour": [
           {
            "colorbar": {
             "outlinewidth": 0,
             "tickcolor": "rgb(237,237,237)",
             "ticklen": 6,
             "ticks": "inside"
            },
            "colorscale": [
             [
              0,
              "rgb(20,44,66)"
             ],
             [
              1,
              "rgb(90,179,244)"
             ]
            ],
            "type": "contour"
           }
          ],
          "contourcarpet": [
           {
            "colorbar": {
             "outlinewidth": 0,
             "tickcolor": "rgb(237,237,237)",
             "ticklen": 6,
             "ticks": "inside"
            },
            "type": "contourcarpet"
           }
          ],
          "heatmap": [
           {
            "colorbar": {
             "outlinewidth": 0,
             "tickcolor": "rgb(237,237,237)",
             "ticklen": 6,
             "ticks": "inside"
            },
            "colorscale": [
             [
              0,
              "rgb(20,44,66)"
             ],
             [
              1,
              "rgb(90,179,244)"
             ]
            ],
            "type": "heatmap"
           }
          ],
          "heatmapgl": [
           {
            "colorbar": {
             "outlinewidth": 0,
             "tickcolor": "rgb(237,237,237)",
             "ticklen": 6,
             "ticks": "inside"
            },
            "colorscale": [
             [
              0,
              "rgb(20,44,66)"
             ],
             [
              1,
              "rgb(90,179,244)"
             ]
            ],
            "type": "heatmapgl"
           }
          ],
          "histogram": [
           {
            "marker": {
             "pattern": {
              "fillmode": "overlay",
              "size": 10,
              "solidity": 0.2
             }
            },
            "type": "histogram"
           }
          ],
          "histogram2d": [
           {
            "colorbar": {
             "outlinewidth": 0,
             "tickcolor": "rgb(237,237,237)",
             "ticklen": 6,
             "ticks": "inside"
            },
            "colorscale": [
             [
              0,
              "rgb(20,44,66)"
             ],
             [
              1,
              "rgb(90,179,244)"
             ]
            ],
            "type": "histogram2d"
           }
          ],
          "histogram2dcontour": [
           {
            "colorbar": {
             "outlinewidth": 0,
             "tickcolor": "rgb(237,237,237)",
             "ticklen": 6,
             "ticks": "inside"
            },
            "colorscale": [
             [
              0,
              "rgb(20,44,66)"
             ],
             [
              1,
              "rgb(90,179,244)"
             ]
            ],
            "type": "histogram2dcontour"
           }
          ],
          "mesh3d": [
           {
            "colorbar": {
             "outlinewidth": 0,
             "tickcolor": "rgb(237,237,237)",
             "ticklen": 6,
             "ticks": "inside"
            },
            "type": "mesh3d"
           }
          ],
          "parcoords": [
           {
            "line": {
             "colorbar": {
              "outlinewidth": 0,
              "tickcolor": "rgb(237,237,237)",
              "ticklen": 6,
              "ticks": "inside"
             }
            },
            "type": "parcoords"
           }
          ],
          "pie": [
           {
            "automargin": true,
            "type": "pie"
           }
          ],
          "scatter": [
           {
            "marker": {
             "colorbar": {
              "outlinewidth": 0,
              "tickcolor": "rgb(237,237,237)",
              "ticklen": 6,
              "ticks": "inside"
             }
            },
            "type": "scatter"
           }
          ],
          "scatter3d": [
           {
            "line": {
             "colorbar": {
              "outlinewidth": 0,
              "tickcolor": "rgb(237,237,237)",
              "ticklen": 6,
              "ticks": "inside"
             }
            },
            "marker": {
             "colorbar": {
              "outlinewidth": 0,
              "tickcolor": "rgb(237,237,237)",
              "ticklen": 6,
              "ticks": "inside"
             }
            },
            "type": "scatter3d"
           }
          ],
          "scattercarpet": [
           {
            "marker": {
             "colorbar": {
              "outlinewidth": 0,
              "tickcolor": "rgb(237,237,237)",
              "ticklen": 6,
              "ticks": "inside"
             }
            },
            "type": "scattercarpet"
           }
          ],
          "scattergeo": [
           {
            "marker": {
             "colorbar": {
              "outlinewidth": 0,
              "tickcolor": "rgb(237,237,237)",
              "ticklen": 6,
              "ticks": "inside"
             }
            },
            "type": "scattergeo"
           }
          ],
          "scattergl": [
           {
            "marker": {
             "colorbar": {
              "outlinewidth": 0,
              "tickcolor": "rgb(237,237,237)",
              "ticklen": 6,
              "ticks": "inside"
             }
            },
            "type": "scattergl"
           }
          ],
          "scattermapbox": [
           {
            "marker": {
             "colorbar": {
              "outlinewidth": 0,
              "tickcolor": "rgb(237,237,237)",
              "ticklen": 6,
              "ticks": "inside"
             }
            },
            "type": "scattermapbox"
           }
          ],
          "scatterpolar": [
           {
            "marker": {
             "colorbar": {
              "outlinewidth": 0,
              "tickcolor": "rgb(237,237,237)",
              "ticklen": 6,
              "ticks": "inside"
             }
            },
            "type": "scatterpolar"
           }
          ],
          "scatterpolargl": [
           {
            "marker": {
             "colorbar": {
              "outlinewidth": 0,
              "tickcolor": "rgb(237,237,237)",
              "ticklen": 6,
              "ticks": "inside"
             }
            },
            "type": "scatterpolargl"
           }
          ],
          "scatterternary": [
           {
            "marker": {
             "colorbar": {
              "outlinewidth": 0,
              "tickcolor": "rgb(237,237,237)",
              "ticklen": 6,
              "ticks": "inside"
             }
            },
            "type": "scatterternary"
           }
          ],
          "surface": [
           {
            "colorbar": {
             "outlinewidth": 0,
             "tickcolor": "rgb(237,237,237)",
             "ticklen": 6,
             "ticks": "inside"
            },
            "colorscale": [
             [
              0,
              "rgb(20,44,66)"
             ],
             [
              1,
              "rgb(90,179,244)"
             ]
            ],
            "type": "surface"
           }
          ],
          "table": [
           {
            "cells": {
             "fill": {
              "color": "rgb(237,237,237)"
             },
             "line": {
              "color": "white"
             }
            },
            "header": {
             "fill": {
              "color": "rgb(217,217,217)"
             },
             "line": {
              "color": "white"
             }
            },
            "type": "table"
           }
          ]
         },
         "layout": {
          "annotationdefaults": {
           "arrowhead": 0,
           "arrowwidth": 1
          },
          "autotypenumbers": "strict",
          "coloraxis": {
           "colorbar": {
            "outlinewidth": 0,
            "tickcolor": "rgb(237,237,237)",
            "ticklen": 6,
            "ticks": "inside"
           }
          },
          "colorscale": {
           "sequential": [
            [
             0,
             "rgb(20,44,66)"
            ],
            [
             1,
             "rgb(90,179,244)"
            ]
           ],
           "sequentialminus": [
            [
             0,
             "rgb(20,44,66)"
            ],
            [
             1,
             "rgb(90,179,244)"
            ]
           ]
          },
          "colorway": [
           "#F8766D",
           "#A3A500",
           "#00BF7D",
           "#00B0F6",
           "#E76BF3"
          ],
          "font": {
           "color": "rgb(51,51,51)"
          },
          "geo": {
           "bgcolor": "white",
           "lakecolor": "white",
           "landcolor": "rgb(237,237,237)",
           "showlakes": true,
           "showland": true,
           "subunitcolor": "white"
          },
          "hoverlabel": {
           "align": "left"
          },
          "hovermode": "closest",
          "paper_bgcolor": "white",
          "plot_bgcolor": "rgb(237,237,237)",
          "polar": {
           "angularaxis": {
            "gridcolor": "white",
            "linecolor": "white",
            "showgrid": true,
            "tickcolor": "rgb(51,51,51)",
            "ticks": "outside"
           },
           "bgcolor": "rgb(237,237,237)",
           "radialaxis": {
            "gridcolor": "white",
            "linecolor": "white",
            "showgrid": true,
            "tickcolor": "rgb(51,51,51)",
            "ticks": "outside"
           }
          },
          "scene": {
           "xaxis": {
            "backgroundcolor": "rgb(237,237,237)",
            "gridcolor": "white",
            "gridwidth": 2,
            "linecolor": "white",
            "showbackground": true,
            "showgrid": true,
            "tickcolor": "rgb(51,51,51)",
            "ticks": "outside",
            "zerolinecolor": "white"
           },
           "yaxis": {
            "backgroundcolor": "rgb(237,237,237)",
            "gridcolor": "white",
            "gridwidth": 2,
            "linecolor": "white",
            "showbackground": true,
            "showgrid": true,
            "tickcolor": "rgb(51,51,51)",
            "ticks": "outside",
            "zerolinecolor": "white"
           },
           "zaxis": {
            "backgroundcolor": "rgb(237,237,237)",
            "gridcolor": "white",
            "gridwidth": 2,
            "linecolor": "white",
            "showbackground": true,
            "showgrid": true,
            "tickcolor": "rgb(51,51,51)",
            "ticks": "outside",
            "zerolinecolor": "white"
           }
          },
          "shapedefaults": {
           "fillcolor": "black",
           "line": {
            "width": 0
           },
           "opacity": 0.3
          },
          "ternary": {
           "aaxis": {
            "gridcolor": "white",
            "linecolor": "white",
            "showgrid": true,
            "tickcolor": "rgb(51,51,51)",
            "ticks": "outside"
           },
           "baxis": {
            "gridcolor": "white",
            "linecolor": "white",
            "showgrid": true,
            "tickcolor": "rgb(51,51,51)",
            "ticks": "outside"
           },
           "bgcolor": "rgb(237,237,237)",
           "caxis": {
            "gridcolor": "white",
            "linecolor": "white",
            "showgrid": true,
            "tickcolor": "rgb(51,51,51)",
            "ticks": "outside"
           }
          },
          "xaxis": {
           "automargin": true,
           "gridcolor": "white",
           "linecolor": "white",
           "showgrid": true,
           "tickcolor": "rgb(51,51,51)",
           "ticks": "outside",
           "title": {
            "standoff": 15
           },
           "zerolinecolor": "white"
          },
          "yaxis": {
           "automargin": true,
           "gridcolor": "white",
           "linecolor": "white",
           "showgrid": true,
           "tickcolor": "rgb(51,51,51)",
           "ticks": "outside",
           "title": {
            "standoff": 15
           },
           "zerolinecolor": "white"
          }
         }
        },
        "title": {
         "text": "Train Test Split"
        },
        "xaxis": {
         "title": {
          "text": "Time"
         },
         "zeroline": false
        },
        "yaxis": {
         "title": {
          "text": "Values"
         }
        }
       }
      }
     },
     "metadata": {},
     "output_type": "display_data"
    }
   ],
   "source": [
    "# Treino e Teste\n",
    "\n",
    "plot_model(exp_smooth, plot='train_test_split')"
   ]
  },
  {
   "cell_type": "code",
   "execution_count": 12,
   "metadata": {},
   "outputs": [
    {
     "data": {
      "text/plain": [
       "ExponentialSmoothing(damped_trend=False, damping_trend=None, initial_level=None,\n",
       "                     initial_seasonal=None, initial_trend=None,\n",
       "                     initialization_method='estimated', method=None,\n",
       "                     minimize_kwargs=None, optimized=True, remove_bias=False,\n",
       "                     seasonal='mul', smoothing_level=None,\n",
       "                     smoothing_seasonal=None, smoothing_trend=None, sp=12,\n",
       "                     start_params=None, trend='add', use_boxcox=None,\n",
       "                     use_brute=True)"
      ]
     },
     "execution_count": 12,
     "metadata": {},
     "output_type": "execute_result"
    }
   ],
   "source": [
    "# Finalização do modelo\n",
    "\n",
    "final = finalize_model(exp_smooth)\n",
    "final"
   ]
  },
  {
   "cell_type": "code",
   "execution_count": 13,
   "metadata": {},
   "outputs": [
    {
     "data": {
      "application/vnd.plotly.v1+json": {
       "config": {
        "plotlyServerURL": "https://plot.ly"
       },
       "data": [
        {
         "line": {
          "color": "#1f77b4"
         },
         "marker": {
          "size": 5
         },
         "mode": "lines+markers",
         "name": "Forecast | Exponential Smoothing",
         "showlegend": true,
         "type": "scatter",
         "x": [
          "2021-07-01T00:00:00",
          "2021-08-01T00:00:00",
          "2021-09-01T00:00:00",
          "2021-10-01T00:00:00",
          "2021-11-01T00:00:00",
          "2021-12-01T00:00:00",
          "2022-01-01T00:00:00",
          "2022-02-01T00:00:00",
          "2022-03-01T00:00:00",
          "2022-04-01T00:00:00",
          "2022-05-01T00:00:00",
          "2022-06-01T00:00:00"
         ],
         "y": [
          7.9344,
          7.5967,
          6.5267,
          6.9777,
          6.1917,
          5.4617,
          4.9963,
          4.2144,
          3.8211,
          3.2181,
          3.073,
          2.4157
         ]
        },
        {
         "marker": {
          "color": "#3f3f3f",
          "size": 5
         },
         "mode": "lines+markers",
         "name": "Original",
         "showlegend": true,
         "type": "scatter",
         "x": [
          "2010-01-01T00:00:00",
          "2010-02-01T00:00:00",
          "2010-03-01T00:00:00",
          "2010-04-01T00:00:00",
          "2010-05-01T00:00:00",
          "2010-06-01T00:00:00",
          "2010-07-01T00:00:00",
          "2010-08-01T00:00:00",
          "2010-09-01T00:00:00",
          "2010-10-01T00:00:00",
          "2010-11-01T00:00:00",
          "2010-12-01T00:00:00",
          "2011-01-01T00:00:00",
          "2011-02-01T00:00:00",
          "2011-03-01T00:00:00",
          "2011-04-01T00:00:00",
          "2011-05-01T00:00:00",
          "2011-06-01T00:00:00",
          "2011-07-01T00:00:00",
          "2011-08-01T00:00:00",
          "2011-09-01T00:00:00",
          "2011-10-01T00:00:00",
          "2011-11-01T00:00:00",
          "2011-12-01T00:00:00",
          "2012-01-01T00:00:00",
          "2012-02-01T00:00:00",
          "2012-03-01T00:00:00",
          "2012-04-01T00:00:00",
          "2012-05-01T00:00:00",
          "2012-06-01T00:00:00",
          "2012-07-01T00:00:00",
          "2012-08-01T00:00:00",
          "2012-09-01T00:00:00",
          "2012-10-01T00:00:00",
          "2012-11-01T00:00:00",
          "2012-12-01T00:00:00",
          "2013-01-01T00:00:00",
          "2013-02-01T00:00:00",
          "2013-03-01T00:00:00",
          "2013-04-01T00:00:00",
          "2013-05-01T00:00:00",
          "2013-06-01T00:00:00",
          "2013-07-01T00:00:00",
          "2013-08-01T00:00:00",
          "2013-09-01T00:00:00",
          "2013-10-01T00:00:00",
          "2013-11-01T00:00:00",
          "2013-12-01T00:00:00",
          "2014-01-01T00:00:00",
          "2014-02-01T00:00:00",
          "2014-03-01T00:00:00",
          "2014-04-01T00:00:00",
          "2014-05-01T00:00:00",
          "2014-06-01T00:00:00",
          "2014-07-01T00:00:00",
          "2014-08-01T00:00:00",
          "2014-09-01T00:00:00",
          "2014-10-01T00:00:00",
          "2014-11-01T00:00:00",
          "2014-12-01T00:00:00",
          "2015-01-01T00:00:00",
          "2015-02-01T00:00:00",
          "2015-03-01T00:00:00",
          "2015-04-01T00:00:00",
          "2015-05-01T00:00:00",
          "2015-06-01T00:00:00",
          "2015-07-01T00:00:00",
          "2015-08-01T00:00:00",
          "2015-09-01T00:00:00",
          "2015-10-01T00:00:00",
          "2015-11-01T00:00:00",
          "2015-12-01T00:00:00",
          "2016-01-01T00:00:00",
          "2016-02-01T00:00:00",
          "2016-03-01T00:00:00",
          "2016-04-01T00:00:00",
          "2016-05-01T00:00:00",
          "2016-06-01T00:00:00",
          "2016-07-01T00:00:00",
          "2016-08-01T00:00:00",
          "2016-09-01T00:00:00",
          "2016-10-01T00:00:00",
          "2016-11-01T00:00:00",
          "2016-12-01T00:00:00",
          "2017-01-01T00:00:00",
          "2017-02-01T00:00:00",
          "2017-03-01T00:00:00",
          "2017-04-01T00:00:00",
          "2017-05-01T00:00:00",
          "2017-06-01T00:00:00",
          "2017-07-01T00:00:00",
          "2017-08-01T00:00:00",
          "2017-09-01T00:00:00",
          "2017-10-01T00:00:00",
          "2017-11-01T00:00:00",
          "2017-12-01T00:00:00",
          "2018-01-01T00:00:00",
          "2018-02-01T00:00:00",
          "2018-03-01T00:00:00",
          "2018-04-01T00:00:00",
          "2018-05-01T00:00:00",
          "2018-06-01T00:00:00",
          "2018-07-01T00:00:00",
          "2018-08-01T00:00:00",
          "2018-09-01T00:00:00",
          "2018-10-01T00:00:00",
          "2018-11-01T00:00:00",
          "2018-12-01T00:00:00",
          "2019-01-01T00:00:00",
          "2019-02-01T00:00:00",
          "2019-03-01T00:00:00",
          "2019-04-01T00:00:00",
          "2019-05-01T00:00:00",
          "2019-06-01T00:00:00",
          "2019-07-01T00:00:00",
          "2019-08-01T00:00:00",
          "2019-09-01T00:00:00",
          "2019-10-01T00:00:00",
          "2019-11-01T00:00:00",
          "2019-12-01T00:00:00",
          "2020-01-01T00:00:00",
          "2020-02-01T00:00:00",
          "2020-03-01T00:00:00",
          "2020-04-01T00:00:00",
          "2020-05-01T00:00:00",
          "2020-06-01T00:00:00",
          "2020-07-01T00:00:00",
          "2020-08-01T00:00:00",
          "2020-09-01T00:00:00",
          "2020-10-01T00:00:00",
          "2020-11-01T00:00:00",
          "2020-12-01T00:00:00",
          "2021-01-01T00:00:00",
          "2021-02-01T00:00:00",
          "2021-03-01T00:00:00",
          "2021-04-01T00:00:00",
          "2021-05-01T00:00:00",
          "2021-06-01T00:00:00"
         ],
         "y": [
          76,
          73,
          63,
          58,
          73,
          68,
          79,
          77,
          58,
          78,
          61,
          51,
          59,
          57,
          50,
          47,
          61,
          57,
          55,
          62,
          53,
          55,
          67,
          71,
          61,
          58,
          60,
          81,
          70,
          66,
          67,
          65,
          71,
          75,
          76,
          69,
          67,
          55,
          73,
          56,
          61,
          57,
          44,
          44,
          37,
          39,
          41,
          36,
          46,
          46,
          61,
          42,
          42,
          45,
          48,
          52,
          50,
          58,
          52,
          51,
          58,
          55,
          50,
          47,
          62,
          49,
          58,
          58,
          57,
          62,
          55,
          54,
          43,
          36,
          20,
          25,
          20,
          19,
          24,
          18,
          14,
          7,
          9,
          8,
          18,
          17,
          19,
          24,
          19,
          22,
          18,
          18,
          15,
          26,
          26,
          21,
          24,
          8,
          14,
          18,
          23,
          16,
          19,
          11,
          15,
          16,
          13,
          13,
          8,
          15,
          14,
          9,
          16,
          17,
          19,
          21,
          18,
          19,
          16,
          16,
          16,
          18,
          19,
          11,
          15,
          8,
          8,
          8,
          7,
          10,
          7,
          12,
          4,
          6,
          5,
          7,
          11,
          8
         ]
        }
       ],
       "layout": {
        "showlegend": true,
        "template": {
         "data": {
          "bar": [
           {
            "error_x": {
             "color": "rgb(51,51,51)"
            },
            "error_y": {
             "color": "rgb(51,51,51)"
            },
            "marker": {
             "line": {
              "color": "rgb(237,237,237)",
              "width": 0.5
             },
             "pattern": {
              "fillmode": "overlay",
              "size": 10,
              "solidity": 0.2
             }
            },
            "type": "bar"
           }
          ],
          "barpolar": [
           {
            "marker": {
             "line": {
              "color": "rgb(237,237,237)",
              "width": 0.5
             },
             "pattern": {
              "fillmode": "overlay",
              "size": 10,
              "solidity": 0.2
             }
            },
            "type": "barpolar"
           }
          ],
          "carpet": [
           {
            "aaxis": {
             "endlinecolor": "rgb(51,51,51)",
             "gridcolor": "white",
             "linecolor": "white",
             "minorgridcolor": "white",
             "startlinecolor": "rgb(51,51,51)"
            },
            "baxis": {
             "endlinecolor": "rgb(51,51,51)",
             "gridcolor": "white",
             "linecolor": "white",
             "minorgridcolor": "white",
             "startlinecolor": "rgb(51,51,51)"
            },
            "type": "carpet"
           }
          ],
          "choropleth": [
           {
            "colorbar": {
             "outlinewidth": 0,
             "tickcolor": "rgb(237,237,237)",
             "ticklen": 6,
             "ticks": "inside"
            },
            "type": "choropleth"
           }
          ],
          "contour": [
           {
            "colorbar": {
             "outlinewidth": 0,
             "tickcolor": "rgb(237,237,237)",
             "ticklen": 6,
             "ticks": "inside"
            },
            "colorscale": [
             [
              0,
              "rgb(20,44,66)"
             ],
             [
              1,
              "rgb(90,179,244)"
             ]
            ],
            "type": "contour"
           }
          ],
          "contourcarpet": [
           {
            "colorbar": {
             "outlinewidth": 0,
             "tickcolor": "rgb(237,237,237)",
             "ticklen": 6,
             "ticks": "inside"
            },
            "type": "contourcarpet"
           }
          ],
          "heatmap": [
           {
            "colorbar": {
             "outlinewidth": 0,
             "tickcolor": "rgb(237,237,237)",
             "ticklen": 6,
             "ticks": "inside"
            },
            "colorscale": [
             [
              0,
              "rgb(20,44,66)"
             ],
             [
              1,
              "rgb(90,179,244)"
             ]
            ],
            "type": "heatmap"
           }
          ],
          "heatmapgl": [
           {
            "colorbar": {
             "outlinewidth": 0,
             "tickcolor": "rgb(237,237,237)",
             "ticklen": 6,
             "ticks": "inside"
            },
            "colorscale": [
             [
              0,
              "rgb(20,44,66)"
             ],
             [
              1,
              "rgb(90,179,244)"
             ]
            ],
            "type": "heatmapgl"
           }
          ],
          "histogram": [
           {
            "marker": {
             "pattern": {
              "fillmode": "overlay",
              "size": 10,
              "solidity": 0.2
             }
            },
            "type": "histogram"
           }
          ],
          "histogram2d": [
           {
            "colorbar": {
             "outlinewidth": 0,
             "tickcolor": "rgb(237,237,237)",
             "ticklen": 6,
             "ticks": "inside"
            },
            "colorscale": [
             [
              0,
              "rgb(20,44,66)"
             ],
             [
              1,
              "rgb(90,179,244)"
             ]
            ],
            "type": "histogram2d"
           }
          ],
          "histogram2dcontour": [
           {
            "colorbar": {
             "outlinewidth": 0,
             "tickcolor": "rgb(237,237,237)",
             "ticklen": 6,
             "ticks": "inside"
            },
            "colorscale": [
             [
              0,
              "rgb(20,44,66)"
             ],
             [
              1,
              "rgb(90,179,244)"
             ]
            ],
            "type": "histogram2dcontour"
           }
          ],
          "mesh3d": [
           {
            "colorbar": {
             "outlinewidth": 0,
             "tickcolor": "rgb(237,237,237)",
             "ticklen": 6,
             "ticks": "inside"
            },
            "type": "mesh3d"
           }
          ],
          "parcoords": [
           {
            "line": {
             "colorbar": {
              "outlinewidth": 0,
              "tickcolor": "rgb(237,237,237)",
              "ticklen": 6,
              "ticks": "inside"
             }
            },
            "type": "parcoords"
           }
          ],
          "pie": [
           {
            "automargin": true,
            "type": "pie"
           }
          ],
          "scatter": [
           {
            "marker": {
             "colorbar": {
              "outlinewidth": 0,
              "tickcolor": "rgb(237,237,237)",
              "ticklen": 6,
              "ticks": "inside"
             }
            },
            "type": "scatter"
           }
          ],
          "scatter3d": [
           {
            "line": {
             "colorbar": {
              "outlinewidth": 0,
              "tickcolor": "rgb(237,237,237)",
              "ticklen": 6,
              "ticks": "inside"
             }
            },
            "marker": {
             "colorbar": {
              "outlinewidth": 0,
              "tickcolor": "rgb(237,237,237)",
              "ticklen": 6,
              "ticks": "inside"
             }
            },
            "type": "scatter3d"
           }
          ],
          "scattercarpet": [
           {
            "marker": {
             "colorbar": {
              "outlinewidth": 0,
              "tickcolor": "rgb(237,237,237)",
              "ticklen": 6,
              "ticks": "inside"
             }
            },
            "type": "scattercarpet"
           }
          ],
          "scattergeo": [
           {
            "marker": {
             "colorbar": {
              "outlinewidth": 0,
              "tickcolor": "rgb(237,237,237)",
              "ticklen": 6,
              "ticks": "inside"
             }
            },
            "type": "scattergeo"
           }
          ],
          "scattergl": [
           {
            "marker": {
             "colorbar": {
              "outlinewidth": 0,
              "tickcolor": "rgb(237,237,237)",
              "ticklen": 6,
              "ticks": "inside"
             }
            },
            "type": "scattergl"
           }
          ],
          "scattermapbox": [
           {
            "marker": {
             "colorbar": {
              "outlinewidth": 0,
              "tickcolor": "rgb(237,237,237)",
              "ticklen": 6,
              "ticks": "inside"
             }
            },
            "type": "scattermapbox"
           }
          ],
          "scatterpolar": [
           {
            "marker": {
             "colorbar": {
              "outlinewidth": 0,
              "tickcolor": "rgb(237,237,237)",
              "ticklen": 6,
              "ticks": "inside"
             }
            },
            "type": "scatterpolar"
           }
          ],
          "scatterpolargl": [
           {
            "marker": {
             "colorbar": {
              "outlinewidth": 0,
              "tickcolor": "rgb(237,237,237)",
              "ticklen": 6,
              "ticks": "inside"
             }
            },
            "type": "scatterpolargl"
           }
          ],
          "scatterternary": [
           {
            "marker": {
             "colorbar": {
              "outlinewidth": 0,
              "tickcolor": "rgb(237,237,237)",
              "ticklen": 6,
              "ticks": "inside"
             }
            },
            "type": "scatterternary"
           }
          ],
          "surface": [
           {
            "colorbar": {
             "outlinewidth": 0,
             "tickcolor": "rgb(237,237,237)",
             "ticklen": 6,
             "ticks": "inside"
            },
            "colorscale": [
             [
              0,
              "rgb(20,44,66)"
             ],
             [
              1,
              "rgb(90,179,244)"
             ]
            ],
            "type": "surface"
           }
          ],
          "table": [
           {
            "cells": {
             "fill": {
              "color": "rgb(237,237,237)"
             },
             "line": {
              "color": "white"
             }
            },
            "header": {
             "fill": {
              "color": "rgb(217,217,217)"
             },
             "line": {
              "color": "white"
             }
            },
            "type": "table"
           }
          ]
         },
         "layout": {
          "annotationdefaults": {
           "arrowhead": 0,
           "arrowwidth": 1
          },
          "autotypenumbers": "strict",
          "coloraxis": {
           "colorbar": {
            "outlinewidth": 0,
            "tickcolor": "rgb(237,237,237)",
            "ticklen": 6,
            "ticks": "inside"
           }
          },
          "colorscale": {
           "sequential": [
            [
             0,
             "rgb(20,44,66)"
            ],
            [
             1,
             "rgb(90,179,244)"
            ]
           ],
           "sequentialminus": [
            [
             0,
             "rgb(20,44,66)"
            ],
            [
             1,
             "rgb(90,179,244)"
            ]
           ]
          },
          "colorway": [
           "#F8766D",
           "#A3A500",
           "#00BF7D",
           "#00B0F6",
           "#E76BF3"
          ],
          "font": {
           "color": "rgb(51,51,51)"
          },
          "geo": {
           "bgcolor": "white",
           "lakecolor": "white",
           "landcolor": "rgb(237,237,237)",
           "showlakes": true,
           "showland": true,
           "subunitcolor": "white"
          },
          "hoverlabel": {
           "align": "left"
          },
          "hovermode": "closest",
          "paper_bgcolor": "white",
          "plot_bgcolor": "rgb(237,237,237)",
          "polar": {
           "angularaxis": {
            "gridcolor": "white",
            "linecolor": "white",
            "showgrid": true,
            "tickcolor": "rgb(51,51,51)",
            "ticks": "outside"
           },
           "bgcolor": "rgb(237,237,237)",
           "radialaxis": {
            "gridcolor": "white",
            "linecolor": "white",
            "showgrid": true,
            "tickcolor": "rgb(51,51,51)",
            "ticks": "outside"
           }
          },
          "scene": {
           "xaxis": {
            "backgroundcolor": "rgb(237,237,237)",
            "gridcolor": "white",
            "gridwidth": 2,
            "linecolor": "white",
            "showbackground": true,
            "showgrid": true,
            "tickcolor": "rgb(51,51,51)",
            "ticks": "outside",
            "zerolinecolor": "white"
           },
           "yaxis": {
            "backgroundcolor": "rgb(237,237,237)",
            "gridcolor": "white",
            "gridwidth": 2,
            "linecolor": "white",
            "showbackground": true,
            "showgrid": true,
            "tickcolor": "rgb(51,51,51)",
            "ticks": "outside",
            "zerolinecolor": "white"
           },
           "zaxis": {
            "backgroundcolor": "rgb(237,237,237)",
            "gridcolor": "white",
            "gridwidth": 2,
            "linecolor": "white",
            "showbackground": true,
            "showgrid": true,
            "tickcolor": "rgb(51,51,51)",
            "ticks": "outside",
            "zerolinecolor": "white"
           }
          },
          "shapedefaults": {
           "fillcolor": "black",
           "line": {
            "width": 0
           },
           "opacity": 0.3
          },
          "ternary": {
           "aaxis": {
            "gridcolor": "white",
            "linecolor": "white",
            "showgrid": true,
            "tickcolor": "rgb(51,51,51)",
            "ticks": "outside"
           },
           "baxis": {
            "gridcolor": "white",
            "linecolor": "white",
            "showgrid": true,
            "tickcolor": "rgb(51,51,51)",
            "ticks": "outside"
           },
           "bgcolor": "rgb(237,237,237)",
           "caxis": {
            "gridcolor": "white",
            "linecolor": "white",
            "showgrid": true,
            "tickcolor": "rgb(51,51,51)",
            "ticks": "outside"
           }
          },
          "xaxis": {
           "automargin": true,
           "gridcolor": "white",
           "linecolor": "white",
           "showgrid": true,
           "tickcolor": "rgb(51,51,51)",
           "ticks": "outside",
           "title": {
            "standoff": 15
           },
           "zerolinecolor": "white"
          },
          "yaxis": {
           "automargin": true,
           "gridcolor": "white",
           "linecolor": "white",
           "showgrid": true,
           "tickcolor": "rgb(51,51,51)",
           "ticks": "outside",
           "title": {
            "standoff": 15
           },
           "zerolinecolor": "white"
          }
         }
        },
        "title": {
         "text": "Actual vs. 'Out-of-Sample' Forecast | QTD_POCO"
        },
        "xaxis": {
         "title": {
          "text": "Time"
         }
        },
        "yaxis": {
         "title": {
          "text": "Values"
         }
        }
       }
      }
     },
     "metadata": {},
     "output_type": "display_data"
    }
   ],
   "source": [
    "# Previsão\n",
    "\n",
    "plot_model(final, plot='forecast')"
   ]
  }
 ],
 "metadata": {
  "interpreter": {
   "hash": "d3293ed44f275acf8125ba4530465ed2a74a16d8df4c8bfb247854afffb16d38"
  },
  "kernelspec": {
   "display_name": "Python 3.9.7 64-bit ('base': conda)",
   "language": "python",
   "name": "python3"
  },
  "language_info": {
   "codemirror_mode": {
    "name": "ipython",
    "version": 3
   },
   "file_extension": ".py",
   "mimetype": "text/x-python",
   "name": "python",
   "nbconvert_exporter": "python",
   "pygments_lexer": "ipython3",
   "version": "3.9.7"
  },
  "orig_nbformat": 4
 },
 "nbformat": 4,
 "nbformat_minor": 2
}
