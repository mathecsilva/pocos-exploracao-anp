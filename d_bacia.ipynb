{
 "cells": [
  {
   "cell_type": "code",
   "execution_count": 6,
   "metadata": {},
   "outputs": [],
   "source": [
    "import pandas as pd\n",
    "import sqlite3"
   ]
  },
  {
   "cell_type": "code",
   "execution_count": 7,
   "metadata": {},
   "outputs": [],
   "source": [
    "# Conexão database SQLite\n",
    "consqlite = sqlite3.connect('C:/Users/matheus.candido/sqlite3/exploracao_petroleo_brasil.db', timeout=3)"
   ]
  },
  {
   "cell_type": "code",
   "execution_count": 8,
   "metadata": {},
   "outputs": [],
   "source": [
    "# ETL Query d_bacia\n",
    "\n",
    "query_d_bacia = f\"\"\"\n",
    "SELECT DISTINCT \n",
    "\t   UPPER(REPLACE(SUBSTR(BACIA, 0, 3), 'ã', 'a') || LENGTH(BACIA) || REPLACE(REPLACE(SUBSTR(BACIA, -1, 1), 'á', 'a'), 'ó', 'o')) AS COD_BACIA,\n",
    "   \t   UPPER(BACIA) AS BACIA\n",
    "FROM T_DATAHUB\n",
    "ORDER BY COD_BACIA\n",
    "\"\"\"\n",
    "\n",
    "d_bacia_df = pd.read_sql_query(query_d_bacia, consqlite)"
   ]
  },
  {
   "cell_type": "code",
   "execution_count": 9,
   "metadata": {},
   "outputs": [
    {
     "name": "stdout",
     "output_type": "stream",
     "text": [
      "<class 'pandas.core.frame.DataFrame'>\n",
      "RangeIndex: 37 entries, 0 to 36\n",
      "Data columns (total 2 columns):\n",
      " #   Column     Non-Null Count  Dtype \n",
      "---  ------     --------------  ----- \n",
      " 0   COD_BACIA  37 non-null     object\n",
      " 1   BACIA      37 non-null     object\n",
      "dtypes: object(2)\n",
      "memory usage: 720.0+ bytes\n"
     ]
    }
   ],
   "source": [
    "d_bacia_df.info()"
   ]
  },
  {
   "cell_type": "code",
   "execution_count": 10,
   "metadata": {},
   "outputs": [
    {
     "data": {
      "text/plain": [
       "<sqlite3.Cursor at 0x14a3bfc58f0>"
      ]
     },
     "execution_count": 10,
     "metadata": {},
     "output_type": "execute_result"
    }
   ],
   "source": [
    "# Create table (DDL) SQLite d_bacia\n",
    "\n",
    "consqlite.execute('DROP TABLE D_BACIA')\n",
    "consqlite.execute(f\"\"\"\n",
    "CREATE TABLE IF NOT EXISTS D_BACIA (\n",
    "\tCOD_BACIA VARCHAR(10) PRIMARY KEY,\n",
    "\tBACIA VARCHAR(50) NOT NULL\n",
    ")\n",
    "\"\"\")"
   ]
  },
  {
   "cell_type": "code",
   "execution_count": 11,
   "metadata": {},
   "outputs": [],
   "source": [
    "# Insert de dados d_bacia de dataframe para database\n",
    "\n",
    "d_bacia_df.to_sql('D_BACIA', consqlite, if_exists='append', index=False)"
   ]
  },
  {
   "cell_type": "code",
   "execution_count": 12,
   "metadata": {},
   "outputs": [
    {
     "name": "stdout",
     "output_type": "stream",
     "text": [
      "<class 'pandas.core.frame.DataFrame'>\n",
      "RangeIndex: 37 entries, 0 to 36\n",
      "Data columns (total 2 columns):\n",
      " #   Column     Non-Null Count  Dtype \n",
      "---  ------     --------------  ----- \n",
      " 0   COD_BACIA  37 non-null     object\n",
      " 1   BACIA      37 non-null     object\n",
      "dtypes: object(2)\n",
      "memory usage: 720.0+ bytes\n"
     ]
    }
   ],
   "source": [
    "# Informações de database d_bacia\n",
    "\n",
    "d_bacia_db = pd.read_sql_query('SELECT * FROM D_BACIA', consqlite)\n",
    "d_bacia_db.info()"
   ]
  }
 ],
 "metadata": {
  "interpreter": {
   "hash": "d3293ed44f275acf8125ba4530465ed2a74a16d8df4c8bfb247854afffb16d38"
  },
  "kernelspec": {
   "display_name": "Python 3.9.7 64-bit ('base': conda)",
   "language": "python",
   "name": "python3"
  },
  "language_info": {
   "codemirror_mode": {
    "name": "ipython",
    "version": 3
   },
   "file_extension": ".py",
   "mimetype": "text/x-python",
   "name": "python",
   "nbconvert_exporter": "python",
   "pygments_lexer": "ipython3",
   "version": "3.9.7"
  },
  "orig_nbformat": 4
 },
 "nbformat": 4,
 "nbformat_minor": 2
}
