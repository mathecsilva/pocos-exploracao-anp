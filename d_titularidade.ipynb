{
 "cells": [
  {
   "cell_type": "code",
   "execution_count": 1,
   "metadata": {},
   "outputs": [],
   "source": [
    "import pandas as pd\n",
    "import sqlite3"
   ]
  },
  {
   "cell_type": "code",
   "execution_count": 2,
   "metadata": {},
   "outputs": [],
   "source": [
    "# Conexão database SQLite\n",
    "consqlite = sqlite3.connect('C:/Users/matheus.candido/sqlite3/exploracao_petroleo_brasil.db', timeout=3)\n"
   ]
  },
  {
   "cell_type": "code",
   "execution_count": 3,
   "metadata": {},
   "outputs": [],
   "source": [
    "# ETL Query d_titularidade\n",
    "\n",
    "query_d_titularidade = f\"\"\"\n",
    "SELECT DISTINCT \n",
    "       CASE WHEN TITULARIDADE LIKE 'Público' THEN 'P' WHEN TITULARIDADE LIKE 'Confidencial' THEN 'C' ELSE '' END AS COD_TITULARIDADE,\n",
    "\t   UPPER(TITULARIDADE) AS TITULARIDADE \n",
    "FROM T_DATAHUB\n",
    "WHERE COD_TITULARIDADE IS NOT NULL\n",
    "ORDER BY COD_TITULARIDADE\n",
    "\"\"\"\n",
    "\n",
    "d_titularidade_df = pd.read_sql_query(query_d_titularidade, consqlite)"
   ]
  },
  {
   "cell_type": "code",
   "execution_count": 4,
   "metadata": {},
   "outputs": [
    {
     "name": "stdout",
     "output_type": "stream",
     "text": [
      "<class 'pandas.core.frame.DataFrame'>\n",
      "RangeIndex: 2 entries, 0 to 1\n",
      "Data columns (total 2 columns):\n",
      " #   Column            Non-Null Count  Dtype \n",
      "---  ------            --------------  ----- \n",
      " 0   COD_TITULARIDADE  2 non-null      object\n",
      " 1   TITULARIDADE      2 non-null      object\n",
      "dtypes: object(2)\n",
      "memory usage: 160.0+ bytes\n"
     ]
    }
   ],
   "source": [
    "d_titularidade_df.info()"
   ]
  },
  {
   "cell_type": "code",
   "execution_count": 5,
   "metadata": {},
   "outputs": [
    {
     "data": {
      "text/plain": [
       "<sqlite3.Cursor at 0x168b8bf7a40>"
      ]
     },
     "execution_count": 5,
     "metadata": {},
     "output_type": "execute_result"
    }
   ],
   "source": [
    "# Create table (DDL) SQLite d_titularidade\n",
    "\n",
    "consqlite.execute('DROP TABLE D_TITULARIDADE')\n",
    "consqlite.execute(f\"\"\"\n",
    "CREATE TABLE IF NOT EXISTS D_TITULARIDADE (\n",
    "\tCOD_TITULARIDADE VARCHAR(10) PRIMARY KEY,\n",
    "\tTITULARIDADE VARCHAR(50) NOT NULL\n",
    ")\n",
    "\"\"\")"
   ]
  },
  {
   "cell_type": "code",
   "execution_count": 6,
   "metadata": {},
   "outputs": [],
   "source": [
    "# Insert de dados d_titularidade de dataframe para database\n",
    "\n",
    "d_titularidade_df.to_sql('D_TITULARIDADE', consqlite, if_exists='append', index=False)"
   ]
  },
  {
   "cell_type": "code",
   "execution_count": 7,
   "metadata": {},
   "outputs": [
    {
     "name": "stdout",
     "output_type": "stream",
     "text": [
      "<class 'pandas.core.frame.DataFrame'>\n",
      "RangeIndex: 2 entries, 0 to 1\n",
      "Data columns (total 2 columns):\n",
      " #   Column            Non-Null Count  Dtype \n",
      "---  ------            --------------  ----- \n",
      " 0   COD_TITULARIDADE  2 non-null      object\n",
      " 1   TITULARIDADE      2 non-null      object\n",
      "dtypes: object(2)\n",
      "memory usage: 160.0+ bytes\n"
     ]
    }
   ],
   "source": [
    "# Informações de database d_titularidade\n",
    "\n",
    "d_titularidade_db = pd.read_sql_query('SELECT * FROM D_TITULARIDADE', consqlite)\n",
    "d_titularidade_db.info()"
   ]
  }
 ],
 "metadata": {
  "interpreter": {
   "hash": "d3293ed44f275acf8125ba4530465ed2a74a16d8df4c8bfb247854afffb16d38"
  },
  "kernelspec": {
   "display_name": "Python 3.9.7 64-bit ('base': conda)",
   "language": "python",
   "name": "python3"
  },
  "language_info": {
   "codemirror_mode": {
    "name": "ipython",
    "version": 3
   },
   "file_extension": ".py",
   "mimetype": "text/x-python",
   "name": "python",
   "nbconvert_exporter": "python",
   "pygments_lexer": "ipython3",
   "version": "3.9.7"
  },
  "orig_nbformat": 4
 },
 "nbformat": 4,
 "nbformat_minor": 2
}
