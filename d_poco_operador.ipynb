{
 "cells": [
  {
   "cell_type": "code",
   "execution_count": 1,
   "metadata": {},
   "outputs": [],
   "source": [
    "import pandas as pd\n",
    "import sqlite3"
   ]
  },
  {
   "cell_type": "code",
   "execution_count": 2,
   "metadata": {},
   "outputs": [],
   "source": [
    "# Conexão database SQLite\n",
    "consqlite = sqlite3.connect('C:/Users/matheus.candido/sqlite3/exploracao_petroleo_brasil.db', timeout=3)\n"
   ]
  },
  {
   "cell_type": "code",
   "execution_count": 3,
   "metadata": {},
   "outputs": [],
   "source": [
    "# ETL Query d_poco_operador\n",
    "\n",
    "query_d_poco_operador = f\"\"\"\n",
    "SELECT POCO AS COD_POCO,\n",
    "\t   CADASTRO AS COD_CADASTRO_POCO,\n",
    "\t   POCO_OPERADOR AS POCO_OPERADOR,\n",
    "\t   IFNULL(UPPER(OPERADOR), 'NÃO IDENTIFICADO') OPERADOR \n",
    "FROM T_DATAHUB\n",
    "ORDER BY COD_POCO\n",
    "\"\"\"\n",
    "\n",
    "d_poco_operador_df = pd.read_sql_query(query_d_poco_operador, consqlite)"
   ]
  },
  {
   "cell_type": "code",
   "execution_count": 4,
   "metadata": {},
   "outputs": [
    {
     "name": "stdout",
     "output_type": "stream",
     "text": [
      "<class 'pandas.core.frame.DataFrame'>\n",
      "RangeIndex: 30172 entries, 0 to 30171\n",
      "Data columns (total 4 columns):\n",
      " #   Column             Non-Null Count  Dtype \n",
      "---  ------             --------------  ----- \n",
      " 0   COD_POCO           30172 non-null  object\n",
      " 1   COD_CADASTRO_POCO  30172 non-null  int64 \n",
      " 2   POCO_OPERADOR      30172 non-null  object\n",
      " 3   OPERADOR           30172 non-null  object\n",
      "dtypes: int64(1), object(3)\n",
      "memory usage: 943.0+ KB\n"
     ]
    }
   ],
   "source": [
    "d_poco_operador_df.info()"
   ]
  },
  {
   "cell_type": "code",
   "execution_count": 5,
   "metadata": {},
   "outputs": [
    {
     "data": {
      "text/plain": [
       "<sqlite3.Cursor at 0x1a0fbf16ab0>"
      ]
     },
     "execution_count": 5,
     "metadata": {},
     "output_type": "execute_result"
    }
   ],
   "source": [
    "# Create table (DDL) SQLite d_poco_operador\n",
    "\n",
    "consqlite.execute('DROP TABLE D_POCO_OPERADOR')\n",
    "consqlite.execute(f\"\"\"\n",
    "CREATE TABLE IF NOT EXISTS D_POCO_OPERADOR (\n",
    "\tCOD_POCO VARCHAR(20) PRIMARY KEY,\n",
    "\tCOD_CADASTRO_POCO VARCHAR(50) NOT NULL,\n",
    "\tPOCO_OPERADOR VARCHAR(50),\n",
    "\tOPERADOR VARCHAR(20)\n",
    ") \n",
    "\"\"\")"
   ]
  },
  {
   "cell_type": "code",
   "execution_count": 6,
   "metadata": {},
   "outputs": [],
   "source": [
    "# Insert de dados d_poco_operador de dataframe para database\n",
    "\n",
    "d_poco_operador_df.to_sql('D_POCO_OPERADOR', consqlite, if_exists='append', index=False)"
   ]
  },
  {
   "cell_type": "code",
   "execution_count": 7,
   "metadata": {},
   "outputs": [
    {
     "name": "stdout",
     "output_type": "stream",
     "text": [
      "<class 'pandas.core.frame.DataFrame'>\n",
      "RangeIndex: 30172 entries, 0 to 30171\n",
      "Data columns (total 4 columns):\n",
      " #   Column             Non-Null Count  Dtype \n",
      "---  ------             --------------  ----- \n",
      " 0   COD_POCO           30172 non-null  object\n",
      " 1   COD_CADASTRO_POCO  30172 non-null  object\n",
      " 2   POCO_OPERADOR      30172 non-null  object\n",
      " 3   OPERADOR           30172 non-null  object\n",
      "dtypes: object(4)\n",
      "memory usage: 943.0+ KB\n"
     ]
    }
   ],
   "source": [
    "# Informações de database d_poco_operador\n",
    "\n",
    "d_poco_operador_db = pd.read_sql_query('SELECT * FROM D_POCO_OPERADOR', consqlite)\n",
    "d_poco_operador_db.info()"
   ]
  }
 ],
 "metadata": {
  "interpreter": {
   "hash": "d3293ed44f275acf8125ba4530465ed2a74a16d8df4c8bfb247854afffb16d38"
  },
  "kernelspec": {
   "display_name": "Python 3.9.7 64-bit ('base': conda)",
   "language": "python",
   "name": "python3"
  },
  "language_info": {
   "codemirror_mode": {
    "name": "ipython",
    "version": 3
   },
   "file_extension": ".py",
   "mimetype": "text/x-python",
   "name": "python",
   "nbconvert_exporter": "python",
   "pygments_lexer": "ipython3",
   "version": "3.9.7"
  },
  "orig_nbformat": 4
 },
 "nbformat": 4,
 "nbformat_minor": 2
}
