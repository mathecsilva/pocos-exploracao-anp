{
 "cells": [
  {
   "cell_type": "code",
   "execution_count": 1,
   "metadata": {},
   "outputs": [],
   "source": [
    "import pandas as pd\n",
    "import sqlite3"
   ]
  },
  {
   "cell_type": "code",
   "execution_count": 2,
   "metadata": {},
   "outputs": [],
   "source": [
    "# Conexão database SQLite\n",
    "consqlite = sqlite3.connect('C:/Users/matheus.candido/sqlite3/exploracao_petroleo_brasil.db', timeout=3)\n"
   ]
  },
  {
   "cell_type": "code",
   "execution_count": 3,
   "metadata": {},
   "outputs": [],
   "source": [
    "# ETL Query d_situacao\n",
    "\n",
    "query_d_situacao = f\"\"\"\n",
    "SELECT DISTINCT \n",
    "       CASE WHEN SITUACAO LIKE 'ABANDONADO TEMPORARIAMENTE SEM MONITORAMENTO' THEN 'AB44T' WHEN SITUACAO LIKE 'EM OBSERVAÇÃO' THEN 'EM13A' \n",
    "   \t\t \tWHEN SITUACAO LIKE 'EM COMPLETAÇÃO' THEN 'EM14A' WHEN SITUACAO LIKE 'EQUIPADO AGUARDANDO INÍCIO DE OPERAÇÃO' THEN 'EQ38A' \n",
    "   \t\t \tELSE SUBSTR(SITUACAO, 0, 3) || LENGTH (SITUACAO) || SUBSTR(SITUACAO, -1, 1) END AS COD_SITUACAO,\n",
    "\t   SITUACAO \n",
    "FROM T_DATAHUB\n",
    "WHERE COD_SITUACAO IS NOT NULL\n",
    "ORDER BY COD_SITUACAO\n",
    "\"\"\"\n",
    "\n",
    "d_situacao_df = pd.read_sql_query(query_d_situacao, consqlite)"
   ]
  },
  {
   "cell_type": "code",
   "execution_count": 4,
   "metadata": {},
   "outputs": [
    {
     "name": "stdout",
     "output_type": "stream",
     "text": [
      "<class 'pandas.core.frame.DataFrame'>\n",
      "RangeIndex: 25 entries, 0 to 24\n",
      "Data columns (total 2 columns):\n",
      " #   Column        Non-Null Count  Dtype \n",
      "---  ------        --------------  ----- \n",
      " 0   COD_SITUACAO  25 non-null     object\n",
      " 1   SITUACAO      25 non-null     object\n",
      "dtypes: object(2)\n",
      "memory usage: 528.0+ bytes\n"
     ]
    }
   ],
   "source": [
    "d_situacao_df.info()"
   ]
  },
  {
   "cell_type": "code",
   "execution_count": 5,
   "metadata": {},
   "outputs": [
    {
     "data": {
      "text/plain": [
       "<sqlite3.Cursor at 0x287f6f40260>"
      ]
     },
     "execution_count": 5,
     "metadata": {},
     "output_type": "execute_result"
    }
   ],
   "source": [
    "# Create table (DDL) SQLite d_situacao\n",
    "\n",
    "consqlite.execute('DROP TABLE D_SITUACAO')\n",
    "consqlite.execute(f\"\"\"\n",
    "CREATE TABLE IF NOT EXISTS D_SITUACAO (\n",
    "\tCOD_SITUACAO VARCHAR(20) PRIMARY KEY,\n",
    "\tSITUACAO VARCHAR(100) NOT NULL\n",
    ")\n",
    "\"\"\")"
   ]
  },
  {
   "cell_type": "code",
   "execution_count": 6,
   "metadata": {},
   "outputs": [],
   "source": [
    "# Insert de dados d_situacao de dataframe para database\n",
    "\n",
    "d_situacao_df.to_sql('D_SITUACAO', consqlite, if_exists='append', index=False)"
   ]
  },
  {
   "cell_type": "code",
   "execution_count": 7,
   "metadata": {},
   "outputs": [
    {
     "name": "stdout",
     "output_type": "stream",
     "text": [
      "<class 'pandas.core.frame.DataFrame'>\n",
      "RangeIndex: 25 entries, 0 to 24\n",
      "Data columns (total 2 columns):\n",
      " #   Column        Non-Null Count  Dtype \n",
      "---  ------        --------------  ----- \n",
      " 0   COD_SITUACAO  25 non-null     object\n",
      " 1   SITUACAO      25 non-null     object\n",
      "dtypes: object(2)\n",
      "memory usage: 528.0+ bytes\n"
     ]
    }
   ],
   "source": [
    "# Informações de database d_situacao\n",
    "\n",
    "d_situacao_db = pd.read_sql_query('SELECT * FROM D_SITUACAO', consqlite)\n",
    "d_situacao_db.info()"
   ]
  }
 ],
 "metadata": {
  "interpreter": {
   "hash": "d3293ed44f275acf8125ba4530465ed2a74a16d8df4c8bfb247854afffb16d38"
  },
  "kernelspec": {
   "display_name": "Python 3.9.7 64-bit ('base': conda)",
   "language": "python",
   "name": "python3"
  },
  "language_info": {
   "codemirror_mode": {
    "name": "ipython",
    "version": 3
   },
   "file_extension": ".py",
   "mimetype": "text/x-python",
   "name": "python",
   "nbconvert_exporter": "python",
   "pygments_lexer": "ipython3",
   "version": "3.9.7"
  },
  "orig_nbformat": 4
 },
 "nbformat": 4,
 "nbformat_minor": 2
}
