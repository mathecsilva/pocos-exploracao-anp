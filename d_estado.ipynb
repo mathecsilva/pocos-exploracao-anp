{
 "cells": [
  {
   "cell_type": "code",
   "execution_count": 1,
   "metadata": {},
   "outputs": [],
   "source": [
    "import pandas as pd\n",
    "import sqlite3"
   ]
  },
  {
   "cell_type": "code",
   "execution_count": 2,
   "metadata": {},
   "outputs": [],
   "source": [
    "# Conexão database SQLite\n",
    "consqlite = sqlite3.connect('C:/Users/matheus.candido/sqlite3/exploracao_petroleo_brasil.db', timeout=3)\n"
   ]
  },
  {
   "cell_type": "code",
   "execution_count": 3,
   "metadata": {},
   "outputs": [],
   "source": [
    "# ETL Query d_poco_operador\n",
    "\n",
    "query_d_estado = f\"\"\"\n",
    "SELECT DISTINCT \n",
    "\t   ESTADO AS COD_ESTADO,\n",
    "\t   CASE WHEN ESTADO = 'AC' THEN 'ACRE'\n",
    "\t\t\tWHEN ESTADO = 'AL' THEN 'ALAGOAS'\n",
    "\t\t\tWHEN ESTADO = 'AP' THEN 'AMAPÁ'\n",
    "\t\t\tWHEN ESTADO = 'AM' THEN 'AMAZONAS'\n",
    "\t\t\tWHEN ESTADO = 'BA' THEN 'BAHIA'\n",
    "\t\t\tWHEN ESTADO = 'CE' THEN 'CEARÁ'\n",
    "\t\t\tWHEN ESTADO = 'DF' THEN 'DISTRITO FEDERAL'\n",
    "\t\t\tWHEN ESTADO = 'ES' THEN 'ESPÍRITO SANTO'\n",
    "\t\t\tWHEN ESTADO = 'GO' THEN 'GOIÁS'\n",
    "\t\t\tWHEN ESTADO = 'MA' THEN 'MARANHÃO'\n",
    "\t\t\tWHEN ESTADO = 'MT' THEN 'MATO GROSSO'\n",
    "\t\t\tWHEN ESTADO = 'MS' THEN 'MATO GROSSO DO SUL'\n",
    "\t\t\tWHEN ESTADO = 'MG' THEN 'MINAS GERAIS'\n",
    "\t\t\tWHEN ESTADO = 'PA' THEN 'PARÁ'\n",
    "\t\t\tWHEN ESTADO = 'PB' THEN 'PARAÍBA'\n",
    "\t\t\tWHEN ESTADO = 'PR' THEN 'PARANÁ'\n",
    "\t\t\tWHEN ESTADO = 'PE' THEN 'PERNAMBUCO'\n",
    "\t\t\tWHEN ESTADO = 'PI' THEN 'PIAUÍ'\n",
    "\t\t\tWHEN ESTADO = 'RR' THEN 'RORAIMA'\n",
    "\t\t\tWHEN ESTADO = 'RO' THEN 'RONDÔNIA'\n",
    "\t\t\tWHEN ESTADO = 'RJ' THEN 'RIO DE JANEIRO'\n",
    "\t\t\tWHEN ESTADO = 'RN' THEN 'RIO GRANDE DO NORTE'\n",
    "\t\t\tWHEN ESTADO = 'RS' THEN 'RIO GRANDE DO SUL'\n",
    "\t\t\tWHEN ESTADO = 'SC' THEN 'SANTA CATARINA'\n",
    "\t\t\tWHEN ESTADO = 'SP' THEN 'SÃO PAULO'\n",
    "\t\t\tWHEN ESTADO = 'SE' THEN 'SERGIPE'\n",
    "\t\t\tWHEN ESTADO = 'TO' THEN 'TOCANTINS'\n",
    "\t\t\tELSE '' END ESTADO_NOME\n",
    "FROM T_DATAHUB\n",
    "ORDER BY COD_ESTADO\n",
    "\"\"\"\n",
    "\n",
    "d_estado_df = pd.read_sql_query(query_d_estado, consqlite)"
   ]
  },
  {
   "cell_type": "code",
   "execution_count": 4,
   "metadata": {},
   "outputs": [
    {
     "name": "stdout",
     "output_type": "stream",
     "text": [
      "<class 'pandas.core.frame.DataFrame'>\n",
      "RangeIndex: 24 entries, 0 to 23\n",
      "Data columns (total 2 columns):\n",
      " #   Column       Non-Null Count  Dtype \n",
      "---  ------       --------------  ----- \n",
      " 0   COD_ESTADO   24 non-null     object\n",
      " 1   ESTADO_NOME  24 non-null     object\n",
      "dtypes: object(2)\n",
      "memory usage: 512.0+ bytes\n"
     ]
    }
   ],
   "source": [
    "d_estado_df.info()"
   ]
  },
  {
   "cell_type": "code",
   "execution_count": 5,
   "metadata": {},
   "outputs": [
    {
     "data": {
      "text/plain": [
       "<sqlite3.Cursor at 0x1d4c04da570>"
      ]
     },
     "execution_count": 5,
     "metadata": {},
     "output_type": "execute_result"
    }
   ],
   "source": [
    "# Create table (DDL) SQLite d_estado\n",
    "\n",
    "consqlite.execute('DROP TABLE D_ESTADO')\n",
    "consqlite.execute(f\"\"\"\n",
    "CREATE TABLE IF NOT EXISTS D_ESTADO (\n",
    "\tCOD_ESTADO VARCHAR(10) PRIMARY KEY,\n",
    "\tESTADO_NOME VARCHAR(50) NOT NULL\n",
    ") \n",
    "\"\"\")"
   ]
  },
  {
   "cell_type": "code",
   "execution_count": 6,
   "metadata": {},
   "outputs": [],
   "source": [
    "# Insert de dados d_estado de dataframe para database\n",
    "\n",
    "d_estado_df.to_sql('D_ESTADO', consqlite, if_exists='append', index=False)"
   ]
  },
  {
   "cell_type": "code",
   "execution_count": 7,
   "metadata": {},
   "outputs": [
    {
     "name": "stdout",
     "output_type": "stream",
     "text": [
      "<class 'pandas.core.frame.DataFrame'>\n",
      "RangeIndex: 24 entries, 0 to 23\n",
      "Data columns (total 2 columns):\n",
      " #   Column       Non-Null Count  Dtype \n",
      "---  ------       --------------  ----- \n",
      " 0   COD_ESTADO   24 non-null     object\n",
      " 1   ESTADO_NOME  24 non-null     object\n",
      "dtypes: object(2)\n",
      "memory usage: 512.0+ bytes\n"
     ]
    }
   ],
   "source": [
    "# Informações de database d_estado\n",
    "\n",
    "d_estado_db = pd.read_sql_query('SELECT * FROM D_ESTADO', consqlite)\n",
    "d_estado_db.info()"
   ]
  }
 ],
 "metadata": {
  "interpreter": {
   "hash": "d3293ed44f275acf8125ba4530465ed2a74a16d8df4c8bfb247854afffb16d38"
  },
  "kernelspec": {
   "display_name": "Python 3.9.7 64-bit ('base': conda)",
   "language": "python",
   "name": "python3"
  },
  "language_info": {
   "codemirror_mode": {
    "name": "ipython",
    "version": 3
   },
   "file_extension": ".py",
   "mimetype": "text/x-python",
   "name": "python",
   "nbconvert_exporter": "python",
   "pygments_lexer": "ipython3",
   "version": "3.9.7"
  },
  "orig_nbformat": 4
 },
 "nbformat": 4,
 "nbformat_minor": 2
}
